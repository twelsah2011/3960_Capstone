{
 "cells": [
  {
   "cell_type": "code",
   "execution_count": null,
   "metadata": {},
   "outputs": [],
   "source": []
  },
  {
   "attachments": {},
   "cell_type": "markdown",
   "metadata": {},
   "source": [
    "### Long Short-Term Memory (LSTM) neural network model:\n",
    "\n",
    "LSTMs are a type of recurrent neural network (RNN) that can remember past information and use it to make predictions. They are particularly useful for time series data like the pollution data in this example, where past observations can be used to predict future values.\n",
    "\n",
    "LSTM models can capture both short-term and long-term dependencies in the data, making them well-suited for time series prediction tasks. They are also capable of handling non-linear relationships between inputs and outputs, which can be useful when dealing with complex, real-world data.\n",
    "\n",
    "One potential downside of LSTM models is that they can be computationally expensive to train, particularly when working with large datasets. Additionally, they can be difficult to interpret, which may make it challenging to understand how the model is making its predictions."
   ]
  },
  {
   "cell_type": "code",
   "execution_count": 44,
   "metadata": {},
   "outputs": [],
   "source": [
    "import pandas as pd\n",
    "import numpy as np\n",
    "import matplotlib.pyplot as plt\n",
    "from sklearn.preprocessing import MinMaxScaler\n",
    "from tensorflow.keras.models import Sequential\n",
    "from tensorflow.keras.layers import Dense, LSTM"
   ]
  },
  {
   "cell_type": "code",
   "execution_count": 45,
   "metadata": {},
   "outputs": [
    {
     "name": "stdout",
     "output_type": "stream",
     "text": [
      "<class 'pandas.core.frame.DataFrame'>\n",
      "RangeIndex: 1461 entries, 0 to 1460\n",
      "Data columns (total 19 columns):\n",
      " #   Column                       Non-Null Count  Dtype  \n",
      "---  ------                       --------------  -----  \n",
      " 0   Date/Time                    1461 non-null   object \n",
      " 1   Air Quality Index            1461 non-null   float64\n",
      " 2   Carbon Monoxide              1461 non-null   float64\n",
      " 3   Hydrogen Sulphide            1448 non-null   float64\n",
      " 4   Methane                      1459 non-null   float64\n",
      " 5   Nitric Oxide                 1461 non-null   float64\n",
      " 6   Nitrogen Dioxide             1461 non-null   float64\n",
      " 7   Non-methane Hydrocarbons     1455 non-null   float64\n",
      " 8   Outdoor Air Temperature      1461 non-null   float64\n",
      " 9   Ozone                        1461 non-null   float64\n",
      " 10  PM10 Mass                    412 non-null    float64\n",
      " 11  PM2.5 Mass                   1461 non-null   float64\n",
      " 12  Relative Humidity            1452 non-null   float64\n",
      " 13  Std. Dev. of Wind Direction  1461 non-null   float64\n",
      " 14  Sulphur Dioxide              1461 non-null   float64\n",
      " 15  Total Hydrocarbons           1461 non-null   float64\n",
      " 16  Total Oxides Of Nitrogen     1461 non-null   float64\n",
      " 17  Wind Direction               1461 non-null   float64\n",
      " 18  Wind Speed                   1461 non-null   float64\n",
      "dtypes: float64(18), object(1)\n",
      "memory usage: 217.0+ KB\n"
     ]
    }
   ],
   "source": [
    "df = pd.read_excel('Final_Data.xlsx')\n",
    "df.info()"
   ]
  },
  {
   "cell_type": "code",
   "execution_count": null,
   "metadata": {},
   "outputs": [],
   "source": []
  },
  {
   "cell_type": "code",
   "execution_count": 46,
   "metadata": {},
   "outputs": [
    {
     "name": "stdout",
     "output_type": "stream",
     "text": [
      "<class 'pandas.core.frame.DataFrame'>\n",
      "RangeIndex: 1461 entries, 0 to 1460\n",
      "Data columns (total 19 columns):\n",
      " #   Column                       Non-Null Count  Dtype  \n",
      "---  ------                       --------------  -----  \n",
      " 0   Date/Time                    1461 non-null   object \n",
      " 1   Air Quality Index            1461 non-null   float64\n",
      " 2   Carbon Monoxide              1461 non-null   float64\n",
      " 3   Hydrogen Sulphide            1448 non-null   float64\n",
      " 4   Methane                      1459 non-null   float64\n",
      " 5   Nitric Oxide                 1461 non-null   float64\n",
      " 6   Nitrogen Dioxide             1461 non-null   float64\n",
      " 7   Non-methane Hydrocarbons     1455 non-null   float64\n",
      " 8   Outdoor Air Temperature      1461 non-null   float64\n",
      " 9   Ozone                        1461 non-null   float64\n",
      " 10  PM10 Mass                    412 non-null    float64\n",
      " 11  PM2.5 Mass                   1461 non-null   float64\n",
      " 12  Relative Humidity            1452 non-null   float64\n",
      " 13  Std. Dev. of Wind Direction  1461 non-null   float64\n",
      " 14  Sulphur Dioxide              1461 non-null   float64\n",
      " 15  Total Hydrocarbons           1461 non-null   float64\n",
      " 16  Total Oxides Of Nitrogen     1461 non-null   float64\n",
      " 17  Wind Direction               1461 non-null   float64\n",
      " 18  Wind Speed                   1461 non-null   float64\n",
      "dtypes: float64(18), object(1)\n",
      "memory usage: 217.0+ KB\n"
     ]
    }
   ],
   "source": [
    "df.info()"
   ]
  },
  {
   "cell_type": "code",
   "execution_count": 49,
   "metadata": {},
   "outputs": [],
   "source": [
    "df = df.drop('PM10 Mass', axis=1)"
   ]
  },
  {
   "cell_type": "code",
   "execution_count": null,
   "metadata": {},
   "outputs": [],
   "source": []
  },
  {
   "cell_type": "code",
   "execution_count": 47,
   "metadata": {},
   "outputs": [
    {
     "name": "stdout",
     "output_type": "stream",
     "text": [
      "1/1 [==============================] - 0s 494ms/step\n"
     ]
    },
    {
     "ename": "ValueError",
     "evalue": "non-broadcastable output operand with shape (1,1) doesn't match the broadcast shape (1,17)",
     "output_type": "error",
     "traceback": [
      "\u001b[1;31m---------------------------------------------------------------------------\u001b[0m",
      "\u001b[1;31mValueError\u001b[0m                                Traceback (most recent call last)",
      "\u001b[1;32mc:\\Users\\shikh\\OneDrive\\Documents\\My_project\\LSTM_Model.ipynb Cell 7\u001b[0m in \u001b[0;36m<cell line: 48>\u001b[1;34m()\u001b[0m\n\u001b[0;32m     <a href='vscode-notebook-cell:/c%3A/Users/shikh/OneDrive/Documents/My_project/LSTM_Model.ipynb#X21sZmlsZQ%3D%3D?line=45'>46</a>\u001b[0m last_3_days \u001b[39m=\u001b[39m last_3_days\u001b[39m.\u001b[39mreshape((\u001b[39m1\u001b[39m, n_timesteps, n_features))\n\u001b[0;32m     <a href='vscode-notebook-cell:/c%3A/Users/shikh/OneDrive/Documents/My_project/LSTM_Model.ipynb#X21sZmlsZQ%3D%3D?line=46'>47</a>\u001b[0m prediction \u001b[39m=\u001b[39m model\u001b[39m.\u001b[39mpredict(last_3_days)\n\u001b[1;32m---> <a href='vscode-notebook-cell:/c%3A/Users/shikh/OneDrive/Documents/My_project/LSTM_Model.ipynb#X21sZmlsZQ%3D%3D?line=47'>48</a>\u001b[0m prediction \u001b[39m=\u001b[39m scaler\u001b[39m.\u001b[39;49minverse_transform(prediction)[\u001b[39m0\u001b[39m][\u001b[39m0\u001b[39m]\n\u001b[0;32m     <a href='vscode-notebook-cell:/c%3A/Users/shikh/OneDrive/Documents/My_project/LSTM_Model.ipynb#X21sZmlsZQ%3D%3D?line=48'>49</a>\u001b[0m \u001b[39mprint\u001b[39m(\u001b[39mf\u001b[39m\u001b[39m\"\u001b[39m\u001b[39mThe predicted Air Quality Index for the next day is: \u001b[39m\u001b[39m{\u001b[39;00mprediction\u001b[39m:\u001b[39;00m\u001b[39m.2f\u001b[39m\u001b[39m}\u001b[39;00m\u001b[39m\"\u001b[39m)\n",
      "File \u001b[1;32mc:\\Users\\shikh\\anaconda3\\lib\\site-packages\\sklearn\\preprocessing\\_data.py:532\u001b[0m, in \u001b[0;36mMinMaxScaler.inverse_transform\u001b[1;34m(self, X)\u001b[0m\n\u001b[0;32m    526\u001b[0m check_is_fitted(\u001b[39mself\u001b[39m)\n\u001b[0;32m    528\u001b[0m X \u001b[39m=\u001b[39m check_array(\n\u001b[0;32m    529\u001b[0m     X, copy\u001b[39m=\u001b[39m\u001b[39mself\u001b[39m\u001b[39m.\u001b[39mcopy, dtype\u001b[39m=\u001b[39mFLOAT_DTYPES, force_all_finite\u001b[39m=\u001b[39m\u001b[39m\"\u001b[39m\u001b[39mallow-nan\u001b[39m\u001b[39m\"\u001b[39m\n\u001b[0;32m    530\u001b[0m )\n\u001b[1;32m--> 532\u001b[0m X \u001b[39m-\u001b[39m\u001b[39m=\u001b[39m \u001b[39mself\u001b[39m\u001b[39m.\u001b[39mmin_\n\u001b[0;32m    533\u001b[0m X \u001b[39m/\u001b[39m\u001b[39m=\u001b[39m \u001b[39mself\u001b[39m\u001b[39m.\u001b[39mscale_\n\u001b[0;32m    534\u001b[0m \u001b[39mreturn\u001b[39;00m X\n",
      "\u001b[1;31mValueError\u001b[0m: non-broadcastable output operand with shape (1,1) doesn't match the broadcast shape (1,17)"
     ]
    }
   ],
   "source": [
    "import pandas as pd\n",
    "from sklearn.preprocessing import MinMaxScaler\n",
    "import numpy as np\n",
    "from tensorflow.keras.models import Sequential\n",
    "from tensorflow.keras.layers import Dense, LSTM\n",
    "\n",
    "# Load the data\n",
    "train_data = pd.read_excel('Final_Data.xlsx', sheet_name=None)\n",
    "\n",
    "# Concatenate all sheets into a single dataframe\n",
    "train_data = pd.concat(train_data, ignore_index=True)\n",
    "\n",
    "# Drop the 'Date/Time' and 'PM10 Mass' columns\n",
    "train_data = train_data.drop(['Date/Time', 'PM10 Mass'], axis=1)\n",
    "\n",
    "# Drop rows with missing values\n",
    "train_data = train_data.dropna()\n",
    "\n",
    "# Scale the data\n",
    "scaler = MinMaxScaler()\n",
    "train_data_scaled = scaler.fit_transform(train_data)\n",
    "\n",
    "# Split the data into inputs and outputs\n",
    "n_timesteps = 3\n",
    "train_X, train_y = [], []\n",
    "for i in range(n_timesteps, len(train_data_scaled)):\n",
    "    train_X.append(train_data_scaled[i-n_timesteps:i])\n",
    "    train_y.append(train_data_scaled[i, 8])  # 8 corresponds to the index of Air Quality Index after dropping the 'Date/Time' and 'PM10 Mass' columns\n",
    "train_X, train_y = np.array(train_X), np.array(train_y)\n",
    "\n",
    "# Reshape the input data for LSTM model\n",
    "n_features = train_X.shape[2]\n",
    "train_X = train_X.reshape((train_X.shape[0], n_timesteps, n_features))\n",
    "\n",
    "# Define the LSTM model\n",
    "model = Sequential()\n",
    "model.add(LSTM(50, activation='relu', input_shape=(n_timesteps, n_features)))\n",
    "model.add(Dense(1))\n",
    "model.compile(optimizer='adam', loss='mse')\n",
    "\n",
    "# Fit the model\n",
    "model.fit(train_X, train_y, epochs=200, verbose=0)\n",
    "\n",
    "# Make a prediction for the next day's Air Quality Index\n",
    "last_3_days = train_data_scaled[-n_timesteps:]\n",
    "last_3_days = last_3_days.reshape((1, n_timesteps, n_features))\n",
    "prediction = model.predict(last_3_days)\n",
    "prediction = scaler.inverse_transform(prediction)[0][0]\n",
    "print(f\"The predicted Air Quality Index for the next day is: {prediction:.2f}\")\n"
   ]
  }
 ],
 "metadata": {
  "kernelspec": {
   "display_name": "base",
   "language": "python",
   "name": "python3"
  },
  "language_info": {
   "codemirror_mode": {
    "name": "ipython",
    "version": 3
   },
   "file_extension": ".py",
   "mimetype": "text/x-python",
   "name": "python",
   "nbconvert_exporter": "python",
   "pygments_lexer": "ipython3",
   "version": "3.9.12"
  },
  "orig_nbformat": 4
 },
 "nbformat": 4,
 "nbformat_minor": 2
}
