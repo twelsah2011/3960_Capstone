{
 "cells": [
  {
   "cell_type": "code",
   "execution_count": 1,
   "metadata": {},
   "outputs": [],
   "source": [
    "import numpy as np\n",
    "import pandas as pd\n",
    "import seaborn as sns\n",
    "import matplotlib.pyplot as plt\n",
    "import seaborn as sns\n",
    "import thinkstats2\n",
    "import thinkplot\n",
    "from sklearn.linear_model import LogisticRegression\n",
    "from sklearn.metrics import accuracy_score, f1_score, mean_squared_error, confusion_matrix\n",
    "from sklearn.metrics import accuracy_score, f1_score, log_loss, confusion_matrix, precision_score, recall_score\n",
    "from sklearn.model_selection import train_test_split\n",
    "import statsmodels.formula.api as sm\n",
    "from sklearn.model_selection import train_test_split\n",
    "from sklearn.preprocessing import MinMaxScaler\n",
    "from sklearn.preprocessing import StandardScaler\n",
    "from sklearn.preprocessing import binarize\n",
    "import math\n"
   ]
  },
  {
   "cell_type": "code",
   "execution_count": 2,
   "metadata": {},
   "outputs": [],
   "source": [
    "import warnings\n",
    "warnings.filterwarnings('ignore')"
   ]
  },
  {
   "attachments": {},
   "cell_type": "markdown",
   "metadata": {},
   "source": [
    "https://app.powerbi.com/groups/me/reports/25dd013b-3b07-4f84-b096-b2db9335638c/ReportSection?ctid=5c98fb47-d3b9-4649-9d94-f88cbdd9729c"
   ]
  },
  {
   "attachments": {},
   "cell_type": "markdown",
   "metadata": {},
   "source": [
    "## AQI (Air Quality Index)\n",
    "\n",
    "Determine the concentration of each pollutant: You need to know the concentration of PM2.5, NO, and O3 in the air. This information can be obtained from local air quality monitoring stations or online resources.\n",
    "\n",
    "Convert the pollutant concentrations into their respective AQI categories: For each pollutant, use a conversion table that shows the corresponding AQI category based on its concentration. The US Environmental Protection Agency (EPA) provides such tables for PM2.5, NO, and O3 on its website.\n",
    "\n",
    "Identify the highest AQI category: The AQI for a particular day is determined by the pollutant with the highest AQI category. For example, if PM2.5 has an AQI of 150 and NO has an AQI of 100, the AQI for that day will be 150.\n",
    "\n",
    "Report the AQI and associated health effects: Once you have determined the AQI, you can report it along with the associated health effects. The EPA provides a table that shows the health effects for each AQI category."
   ]
  },
  {
   "attachments": {},
   "cell_type": "markdown",
   "metadata": {},
   "source": [
    "# Greenhouse gases\n",
    "\n",
    "Greenhouse gases are gases that trap heat in the Earth's atmosphere and contribute to the greenhouse effect, which is the warming of the Earth's surface. The most common greenhouse gases are:\n",
    "<br>  Carbon dioxide (CO2)\n",
    "<br>  Methane (CH4)\n",
    "<br>  Nitrous oxide (N2O)\n",
    "<br>  fluorinated gases (such as hydrofluorocarbons, perfluorocarbons, and sulfur hexafluoride).\n",
    "\n",
    "These gases are released into the atmosphere through various human activities, including burning fossil fuels for energy, deforestation, agriculture, and industrial processes. The concentration of greenhouse gases in the atmosphere has been increasing since the Industrial Revolution, which has led to an increase in global temperatures and a variety of negative impacts, such as sea level rise, more frequent and severe heatwaves, and changes in precipitation patterns."
   ]
  },
  {
   "attachments": {},
   "cell_type": "markdown",
   "metadata": {},
   "source": [
    "## <li> Loading  Air Quality data for years 2015, 2016, 2017 and 2018 for City of Edmonton:\n",
    "## <li> EDA (Exploratory data analysis performed by each year)"
   ]
  },
  {
   "attachments": {},
   "cell_type": "markdown",
   "metadata": {},
   "source": [
    "### Combining Air quality data reading for city of Edmonton for year 2015, 2016, 2017 and 2018"
   ]
  },
  {
   "cell_type": "code",
   "execution_count": 3,
   "metadata": {},
   "outputs": [],
   "source": [
    "df_2015=pd.read_csv(\"Edmonton_Area_Air_Quality_Readings__2015.csv\")"
   ]
  },
  {
   "cell_type": "code",
   "execution_count": 4,
   "metadata": {},
   "outputs": [],
   "source": [
    "df_2016 = pd.read_csv(\"Edmonton_Area_Air_Quality_Readings__2016.csv\")"
   ]
  },
  {
   "cell_type": "code",
   "execution_count": 5,
   "metadata": {},
   "outputs": [],
   "source": [
    "df_2017 = pd.read_csv(\"Edmonton_Area_Air_Quality_Readings__2017.csv\")"
   ]
  },
  {
   "cell_type": "code",
   "execution_count": 6,
   "metadata": {},
   "outputs": [],
   "source": [
    "df_2018 = pd.read_csv(\"Edmonton_Area_Air_Quality_Readings__2018.csv\")"
   ]
  },
  {
   "attachments": {},
   "cell_type": "markdown",
   "metadata": {},
   "source": [
    "### <li> Combined data for weather and air Quality for each year:"
   ]
  },
  {
   "cell_type": "code",
   "execution_count": 7,
   "metadata": {},
   "outputs": [],
   "source": [
    "joined_df_AQ1 = pd.concat([df_2015,df_2016])"
   ]
  },
  {
   "cell_type": "code",
   "execution_count": 8,
   "metadata": {},
   "outputs": [],
   "source": [
    "joined_df_AQ2 = pd.concat([df_2017,df_2018])"
   ]
  },
  {
   "cell_type": "code",
   "execution_count": 9,
   "metadata": {},
   "outputs": [],
   "source": [
    "joined_df_AQ=pd.concat([joined_df_AQ1,joined_df_AQ2])"
   ]
  },
  {
   "cell_type": "code",
   "execution_count": 10,
   "metadata": {},
   "outputs": [
    {
     "name": "stdout",
     "output_type": "stream",
     "text": [
      "<class 'pandas.core.frame.DataFrame'>\n",
      "Int64Index: 407596 entries, 0 to 105175\n",
      "Data columns (total 9 columns):\n",
      " #   Column                   Non-Null Count   Dtype  \n",
      "---  ------                   --------------   -----  \n",
      " 0   Row ID                   407596 non-null  object \n",
      " 1   Monitoring Station Name  407596 non-null  object \n",
      " 2   Parameter Measured       407596 non-null  object \n",
      " 3   Average Daily Value      407596 non-null  float64\n",
      " 4   Unit of Measure          387811 non-null  object \n",
      " 5   Date Measured            407596 non-null  object \n",
      " 6   Latitude                 407596 non-null  float64\n",
      " 7   Longitude                407596 non-null  float64\n",
      " 8   Geo Location             407596 non-null  object \n",
      "dtypes: float64(3), object(6)\n",
      "memory usage: 31.1+ MB\n"
     ]
    }
   ],
   "source": [
    "\n",
    "joined_df_AQ.info()"
   ]
  },
  {
   "cell_type": "code",
   "execution_count": 11,
   "metadata": {},
   "outputs": [
    {
     "data": {
      "text/plain": [
       "Outdoor Air Temperature            33563\n",
       "Wind Direction                     32901\n",
       "Wind Speed                         32844\n",
       "Nitrogen Dioxide                   29636\n",
       "Nitric Oxide                       29636\n",
       "Total Oxides Of Nitrogen           29636\n",
       "Sulphur Dioxide                    28320\n",
       "PM2.5 Mass                         25206\n",
       "Relative Humidity                  20513\n",
       "Std. Dev. of Wind Direction        20311\n",
       "Ozone                              20201\n",
       "Air Quality Index                  19785\n",
       "Total Hydrocarbons                 12366\n",
       "Hydrogen Sulphide                  11319\n",
       "Std. Dev. of Wind Speed            10824\n",
       "Methane                             9243\n",
       "Non-methane Hydrocarbons            9194\n",
       "Carbon Monoxide                     6738\n",
       "Ammonia                             3495\n",
       "Ethylene                            2805\n",
       "Delta Temperature                   2713\n",
       "Photosynthetic Active Radiation     2486\n",
       "Solar Radiation                     2450\n",
       "Catch of Standard Collector         1446\n",
       "o-Xylene                            1355\n",
       "Ethylbenzene                        1355\n",
       "Benzene                             1355\n",
       "Styrene                             1354\n",
       "m,p-Xylene                          1354\n",
       "Toluene                             1337\n",
       "Outdoor Air Temperature at 10m      1323\n",
       "PM10 Mass                            532\n",
       "Name: Parameter Measured, dtype: int64"
      ]
     },
     "execution_count": 11,
     "metadata": {},
     "output_type": "execute_result"
    }
   ],
   "source": [
    "joined_df_AQ['Parameter Measured'].value_counts()"
   ]
  },
  {
   "cell_type": "code",
   "execution_count": 12,
   "metadata": {},
   "outputs": [
    {
     "data": {
      "text/html": [
       "<div>\n",
       "<style scoped>\n",
       "    .dataframe tbody tr th:only-of-type {\n",
       "        vertical-align: middle;\n",
       "    }\n",
       "\n",
       "    .dataframe tbody tr th {\n",
       "        vertical-align: top;\n",
       "    }\n",
       "\n",
       "    .dataframe thead th {\n",
       "        text-align: right;\n",
       "    }\n",
       "</style>\n",
       "<table border=\"1\" class=\"dataframe\">\n",
       "  <thead>\n",
       "    <tr style=\"text-align: right;\">\n",
       "      <th></th>\n",
       "      <th>Row ID</th>\n",
       "      <th>Monitoring Station Name</th>\n",
       "      <th>Parameter Measured</th>\n",
       "      <th>Average Daily Value</th>\n",
       "      <th>Unit of Measure</th>\n",
       "      <th>Date Measured</th>\n",
       "      <th>Latitude</th>\n",
       "      <th>Longitude</th>\n",
       "      <th>Geo Location</th>\n",
       "    </tr>\n",
       "  </thead>\n",
       "  <tbody>\n",
       "    <tr>\n",
       "      <th>28587</th>\n",
       "      <td>Edmonton South-2015-05-04-Wind Speed-11.7542</td>\n",
       "      <td>Edmonton South</td>\n",
       "      <td>Wind Speed</td>\n",
       "      <td>11.7542</td>\n",
       "      <td>km/hr 10m</td>\n",
       "      <td>May 04, 2015</td>\n",
       "      <td>53.500139</td>\n",
       "      <td>-113.526056</td>\n",
       "      <td>POINT (-113.526056 53.500139)</td>\n",
       "    </tr>\n",
       "    <tr>\n",
       "      <th>51818</th>\n",
       "      <td>Edmonton Central-2017-06-27-Total Hydrocarbons...</td>\n",
       "      <td>Edmonton Central</td>\n",
       "      <td>Total Hydrocarbons</td>\n",
       "      <td>2.0000</td>\n",
       "      <td>ppm</td>\n",
       "      <td>Jun 27, 2017</td>\n",
       "      <td>53.544453</td>\n",
       "      <td>-113.498842</td>\n",
       "      <td>POINT (-113.498842 53.544453)</td>\n",
       "    </tr>\n",
       "    <tr>\n",
       "      <th>66998</th>\n",
       "      <td>Edmonton South-2017-08-18-Relative Humidity-64...</td>\n",
       "      <td>Edmonton South</td>\n",
       "      <td>Relative Humidity</td>\n",
       "      <td>64.9167</td>\n",
       "      <td>percent</td>\n",
       "      <td>Aug 18, 2017</td>\n",
       "      <td>53.500139</td>\n",
       "      <td>-113.526056</td>\n",
       "      <td>POINT (-113.526056 53.500139)</td>\n",
       "    </tr>\n",
       "    <tr>\n",
       "      <th>41176</th>\n",
       "      <td>Edmonton East-2016-06-05-Methane-1.8875</td>\n",
       "      <td>Edmonton East</td>\n",
       "      <td>Methane</td>\n",
       "      <td>1.8875</td>\n",
       "      <td>ppm</td>\n",
       "      <td>Jun 05, 2016</td>\n",
       "      <td>53.548139</td>\n",
       "      <td>-113.368194</td>\n",
       "      <td>POINT (-113.368194 53.548139)</td>\n",
       "    </tr>\n",
       "    <tr>\n",
       "      <th>81465</th>\n",
       "      <td>Edmonton South-2016-10-23-Carbon Monoxide-0.3083</td>\n",
       "      <td>Edmonton South</td>\n",
       "      <td>Carbon Monoxide</td>\n",
       "      <td>0.3083</td>\n",
       "      <td>ppm</td>\n",
       "      <td>Oct 23, 2016</td>\n",
       "      <td>53.500139</td>\n",
       "      <td>-113.526056</td>\n",
       "      <td>POINT (-113.526056 53.500139)</td>\n",
       "    </tr>\n",
       "  </tbody>\n",
       "</table>\n",
       "</div>"
      ],
      "text/plain": [
       "                                                  Row ID  \\\n",
       "28587       Edmonton South-2015-05-04-Wind Speed-11.7542   \n",
       "51818  Edmonton Central-2017-06-27-Total Hydrocarbons...   \n",
       "66998  Edmonton South-2017-08-18-Relative Humidity-64...   \n",
       "41176            Edmonton East-2016-06-05-Methane-1.8875   \n",
       "81465   Edmonton South-2016-10-23-Carbon Monoxide-0.3083   \n",
       "\n",
       "      Monitoring Station Name  Parameter Measured  Average Daily Value  \\\n",
       "28587          Edmonton South          Wind Speed              11.7542   \n",
       "51818        Edmonton Central  Total Hydrocarbons               2.0000   \n",
       "66998          Edmonton South   Relative Humidity              64.9167   \n",
       "41176           Edmonton East             Methane               1.8875   \n",
       "81465          Edmonton South     Carbon Monoxide               0.3083   \n",
       "\n",
       "      Unit of Measure Date Measured   Latitude   Longitude  \\\n",
       "28587       km/hr 10m  May 04, 2015  53.500139 -113.526056   \n",
       "51818             ppm  Jun 27, 2017  53.544453 -113.498842   \n",
       "66998         percent  Aug 18, 2017  53.500139 -113.526056   \n",
       "41176             ppm  Jun 05, 2016  53.548139 -113.368194   \n",
       "81465             ppm  Oct 23, 2016  53.500139 -113.526056   \n",
       "\n",
       "                        Geo Location  \n",
       "28587  POINT (-113.526056 53.500139)  \n",
       "51818  POINT (-113.498842 53.544453)  \n",
       "66998  POINT (-113.526056 53.500139)  \n",
       "41176  POINT (-113.368194 53.548139)  \n",
       "81465  POINT (-113.526056 53.500139)  "
      ]
     },
     "execution_count": 12,
     "metadata": {},
     "output_type": "execute_result"
    }
   ],
   "source": [
    "\n",
    "joined_df_AQ = joined_df_AQ[joined_df_AQ['Monitoring Station Name'].isin({'Edmonton Central','Edmonton South', 'Edmonton East'})]\n",
    "\n",
    "joined_df_AQ.sample(5)"
   ]
  },
  {
   "cell_type": "code",
   "execution_count": 13,
   "metadata": {},
   "outputs": [],
   "source": [
    "joined_df_AQ = joined_df_AQ.rename(columns={'Date Measured': 'Date/Time'})"
   ]
  },
  {
   "cell_type": "code",
   "execution_count": 14,
   "metadata": {},
   "outputs": [],
   "source": [
    "joined_df_AQ['Date/Time'] = pd.to_datetime(joined_df_AQ['Date/Time'])"
   ]
  },
  {
   "cell_type": "code",
   "execution_count": 15,
   "metadata": {},
   "outputs": [
    {
     "name": "stdout",
     "output_type": "stream",
     "text": [
      "<class 'pandas.core.frame.DataFrame'>\n",
      "Int64Index: 1461 entries, 0 to 1460\n",
      "Data columns (total 19 columns):\n",
      " #   Column                       Non-Null Count  Dtype         \n",
      "---  ------                       --------------  -----         \n",
      " 0   Date/Time                    1461 non-null   datetime64[ns]\n",
      " 1   Air Quality Index            1461 non-null   float64       \n",
      " 2   Carbon Monoxide              1461 non-null   float64       \n",
      " 3   Hydrogen Sulphide            1448 non-null   float64       \n",
      " 4   Methane                      1459 non-null   float64       \n",
      " 5   Nitric Oxide                 1461 non-null   float64       \n",
      " 6   Nitrogen Dioxide             1461 non-null   float64       \n",
      " 7   Non-methane Hydrocarbons     1455 non-null   float64       \n",
      " 8   Outdoor Air Temperature      1461 non-null   float64       \n",
      " 9   Ozone                        1461 non-null   float64       \n",
      " 10  PM10 Mass                    412 non-null    float64       \n",
      " 11  PM2.5 Mass                   1461 non-null   float64       \n",
      " 12  Relative Humidity            1452 non-null   float64       \n",
      " 13  Std. Dev. of Wind Direction  1461 non-null   float64       \n",
      " 14  Sulphur Dioxide              1461 non-null   float64       \n",
      " 15  Total Hydrocarbons           1461 non-null   float64       \n",
      " 16  Total Oxides Of Nitrogen     1461 non-null   float64       \n",
      " 17  Wind Direction               1461 non-null   float64       \n",
      " 18  Wind Speed                   1461 non-null   float64       \n",
      "dtypes: datetime64[ns](1), float64(18)\n",
      "memory usage: 228.3 KB\n"
     ]
    }
   ],
   "source": [
    "pivoted_df = joined_df_AQ.pivot_table(index='Date/Time', columns='Parameter Measured', values='Average Daily Value', aggfunc='mean')\n",
    "pivoted_df.reset_index(inplace=True)\n",
    "pivoted_df= pivoted_df.sort_values(by='Date/Time')\n",
    "pivoted_df.info()"
   ]
  },
  {
   "attachments": {},
   "cell_type": "markdown",
   "metadata": {},
   "source": [
    "### <li> 'Pivoted_df'  is the final dataset for making model for predicting Air Quality in Edmonton:"
   ]
  },
  {
   "cell_type": "code",
   "execution_count": 16,
   "metadata": {},
   "outputs": [
    {
     "data": {
      "image/png": "[encoded data removed]",
      "text/plain": [
       "<Figure size 1440x720 with 2 Axes>"
      ]
     },
     "metadata": {
      "needs_background": "light"
     },
     "output_type": "display_data"
    }
   ],
   "source": [
    "corr_matrix2 = pivoted_df.corr()\n",
    "plt.rcParams[\"figure.figsize\"] = (20,10)\n",
    "mask = np.triu(np.ones_like(corr_matrix2, dtype=bool))\n",
    "sns.heatmap(corr_matrix2, center=0, linewidths=.5, annot=True, cmap=\"YlGnBu\", yticklabels=True, mask=mask)\n",
    "plt.show()"
   ]
  },
  {
   "attachments": {},
   "cell_type": "markdown",
   "metadata": {},
   "source": [
    "### <li> Above heatmap suggests that Air Quality index is mostly affected by PM2.5 in Edmonton.\n",
    "### <li> Saved the final data set to new  excel file 'New_Data.xlsx'."
   ]
  },
  {
   "cell_type": "markdown",
   "metadata": {},
   "source": []
  },
  {
   "cell_type": "code",
   "execution_count": 17,
   "metadata": {},
   "outputs": [],
   "source": [
    "pivoted_df['Date/Time'] = pd.to_datetime(pivoted_df['Date/Time'])"
   ]
  },
  {
   "cell_type": "code",
   "execution_count": 18,
   "metadata": {},
   "outputs": [],
   "source": [
    "pivoted_df.to_csv('Final_Data.csv', index=False)"
   ]
  },
  {
   "cell_type": "code",
   "execution_count": 19,
   "metadata": {},
   "outputs": [
    {
     "name": "stdout",
     "output_type": "stream",
     "text": [
      "<class 'pandas.core.frame.DataFrame'>\n",
      "Int64Index: 1461 entries, 0 to 1460\n",
      "Data columns (total 19 columns):\n",
      " #   Column                       Non-Null Count  Dtype         \n",
      "---  ------                       --------------  -----         \n",
      " 0   Date/Time                    1461 non-null   datetime64[ns]\n",
      " 1   Air Quality Index            1461 non-null   float64       \n",
      " 2   Carbon Monoxide              1461 non-null   float64       \n",
      " 3   Hydrogen Sulphide            1448 non-null   float64       \n",
      " 4   Methane                      1459 non-null   float64       \n",
      " 5   Nitric Oxide                 1461 non-null   float64       \n",
      " 6   Nitrogen Dioxide             1461 non-null   float64       \n",
      " 7   Non-methane Hydrocarbons     1455 non-null   float64       \n",
      " 8   Outdoor Air Temperature      1461 non-null   float64       \n",
      " 9   Ozone                        1461 non-null   float64       \n",
      " 10  PM10 Mass                    412 non-null    float64       \n",
      " 11  PM2.5 Mass                   1461 non-null   float64       \n",
      " 12  Relative Humidity            1452 non-null   float64       \n",
      " 13  Std. Dev. of Wind Direction  1461 non-null   float64       \n",
      " 14  Sulphur Dioxide              1461 non-null   float64       \n",
      " 15  Total Hydrocarbons           1461 non-null   float64       \n",
      " 16  Total Oxides Of Nitrogen     1461 non-null   float64       \n",
      " 17  Wind Direction               1461 non-null   float64       \n",
      " 18  Wind Speed                   1461 non-null   float64       \n",
      "dtypes: datetime64[ns](1), float64(18)\n",
      "memory usage: 228.3 KB\n"
     ]
    }
   ],
   "source": [
    "pivoted_df.info()"
   ]
  },
  {
   "cell_type": "code",
   "execution_count": 20,
   "metadata": {},
   "outputs": [
    {
     "name": "stdout",
     "output_type": "stream",
     "text": [
      "<class 'pandas.core.frame.DataFrame'>\n",
      "RangeIndex: 1461 entries, 0 to 1460\n",
      "Data columns (total 19 columns):\n",
      " #   Column                       Non-Null Count  Dtype  \n",
      "---  ------                       --------------  -----  \n",
      " 0   Date/Time                    1461 non-null   object \n",
      " 1   Air Quality Index            1461 non-null   float64\n",
      " 2   Carbon Monoxide              1461 non-null   float64\n",
      " 3   Hydrogen Sulphide            1448 non-null   float64\n",
      " 4   Methane                      1459 non-null   float64\n",
      " 5   Nitric Oxide                 1461 non-null   float64\n",
      " 6   Nitrogen Dioxide             1461 non-null   float64\n",
      " 7   Non-methane Hydrocarbons     1455 non-null   float64\n",
      " 8   Outdoor Air Temperature      1461 non-null   float64\n",
      " 9   Ozone                        1461 non-null   float64\n",
      " 10  PM10 Mass                    412 non-null    float64\n",
      " 11  PM2.5 Mass                   1461 non-null   float64\n",
      " 12  Relative Humidity            1452 non-null   float64\n",
      " 13  Std. Dev. of Wind Direction  1461 non-null   float64\n",
      " 14  Sulphur Dioxide              1461 non-null   float64\n",
      " 15  Total Hydrocarbons           1461 non-null   float64\n",
      " 16  Total Oxides Of Nitrogen     1461 non-null   float64\n",
      " 17  Wind Direction               1461 non-null   float64\n",
      " 18  Wind Speed                   1461 non-null   float64\n",
      "dtypes: float64(18), object(1)\n",
      "memory usage: 217.0+ KB\n"
     ]
    }
   ],
   "source": [
    "new_df= pd.read_csv('Final_Data.csv')\n",
    "new_df.info()"
   ]
  },
  {
   "cell_type": "code",
   "execution_count": 21,
   "metadata": {},
   "outputs": [
    {
     "data": {
      "text/html": [
       "<div>\n",
       "<style scoped>\n",
       "    .dataframe tbody tr th:only-of-type {\n",
       "        vertical-align: middle;\n",
       "    }\n",
       "\n",
       "    .dataframe tbody tr th {\n",
       "        vertical-align: top;\n",
       "    }\n",
       "\n",
       "    .dataframe thead th {\n",
       "        text-align: right;\n",
       "    }\n",
       "</style>\n",
       "<table border=\"1\" class=\"dataframe\">\n",
       "  <thead>\n",
       "    <tr style=\"text-align: right;\">\n",
       "      <th>Parameter Measured</th>\n",
       "      <th>Date/Time</th>\n",
       "      <th>Air Quality Index</th>\n",
       "      <th>Carbon Monoxide</th>\n",
       "      <th>Hydrogen Sulphide</th>\n",
       "      <th>Methane</th>\n",
       "      <th>Nitric Oxide</th>\n",
       "      <th>Nitrogen Dioxide</th>\n",
       "      <th>Non-methane Hydrocarbons</th>\n",
       "      <th>Outdoor Air Temperature</th>\n",
       "      <th>Ozone</th>\n",
       "      <th>PM10 Mass</th>\n",
       "      <th>PM2.5 Mass</th>\n",
       "      <th>Relative Humidity</th>\n",
       "      <th>Std. Dev. of Wind Direction</th>\n",
       "      <th>Sulphur Dioxide</th>\n",
       "      <th>Total Hydrocarbons</th>\n",
       "      <th>Total Oxides Of Nitrogen</th>\n",
       "      <th>Wind Direction</th>\n",
       "      <th>Wind Speed</th>\n",
       "    </tr>\n",
       "  </thead>\n",
       "  <tbody>\n",
       "    <tr>\n",
       "      <th>0</th>\n",
       "      <td>2015-01-01</td>\n",
       "      <td>2.405967</td>\n",
       "      <td>0.197200</td>\n",
       "      <td>0.0001</td>\n",
       "      <td>1.9479</td>\n",
       "      <td>0.0022</td>\n",
       "      <td>0.007067</td>\n",
       "      <td>0.06665</td>\n",
       "      <td>2.8167</td>\n",
       "      <td>0.0279</td>\n",
       "      <td>1.0000</td>\n",
       "      <td>2.277767</td>\n",
       "      <td>75.8750</td>\n",
       "      <td>13.79165</td>\n",
       "      <td>0.00120</td>\n",
       "      <td>2.052767</td>\n",
       "      <td>0.009267</td>\n",
       "      <td>220.33335</td>\n",
       "      <td>11.9250</td>\n",
       "    </tr>\n",
       "    <tr>\n",
       "      <th>1</th>\n",
       "      <td>2015-01-02</td>\n",
       "      <td>2.308133</td>\n",
       "      <td>0.205567</td>\n",
       "      <td>0.0005</td>\n",
       "      <td>2.0104</td>\n",
       "      <td>0.0114</td>\n",
       "      <td>0.017633</td>\n",
       "      <td>0.09585</td>\n",
       "      <td>-16.1375</td>\n",
       "      <td>0.0186</td>\n",
       "      <td>3.0435</td>\n",
       "      <td>6.213633</td>\n",
       "      <td>80.7083</td>\n",
       "      <td>16.14585</td>\n",
       "      <td>0.00185</td>\n",
       "      <td>2.176400</td>\n",
       "      <td>0.029033</td>\n",
       "      <td>131.31250</td>\n",
       "      <td>10.1146</td>\n",
       "    </tr>\n",
       "  </tbody>\n",
       "</table>\n",
       "</div>"
      ],
      "text/plain": [
       "Parameter Measured  Date/Time  Air Quality Index  Carbon Monoxide  \\\n",
       "0                  2015-01-01           2.405967         0.197200   \n",
       "1                  2015-01-02           2.308133         0.205567   \n",
       "\n",
       "Parameter Measured  Hydrogen Sulphide  Methane  Nitric Oxide  \\\n",
       "0                              0.0001   1.9479        0.0022   \n",
       "1                              0.0005   2.0104        0.0114   \n",
       "\n",
       "Parameter Measured  Nitrogen Dioxide  Non-methane Hydrocarbons  \\\n",
       "0                           0.007067                   0.06665   \n",
       "1                           0.017633                   0.09585   \n",
       "\n",
       "Parameter Measured  Outdoor Air Temperature   Ozone  PM10 Mass  PM2.5 Mass  \\\n",
       "0                                    2.8167  0.0279     1.0000    2.277767   \n",
       "1                                  -16.1375  0.0186     3.0435    6.213633   \n",
       "\n",
       "Parameter Measured  Relative Humidity  Std. Dev. of Wind Direction  \\\n",
       "0                             75.8750                     13.79165   \n",
       "1                             80.7083                     16.14585   \n",
       "\n",
       "Parameter Measured  Sulphur Dioxide  Total Hydrocarbons  \\\n",
       "0                           0.00120            2.052767   \n",
       "1                           0.00185            2.176400   \n",
       "\n",
       "Parameter Measured  Total Oxides Of Nitrogen  Wind Direction  Wind Speed  \n",
       "0                                   0.009267       220.33335     11.9250  \n",
       "1                                   0.029033       131.31250     10.1146  "
      ]
     },
     "execution_count": 21,
     "metadata": {},
     "output_type": "execute_result"
    }
   ],
   "source": [
    "pivoted_df.head(2)"
   ]
  },
  {
   "cell_type": "code",
   "execution_count": 22,
   "metadata": {},
   "outputs": [],
   "source": [
    "from sktime.performance_metrics.forecasting import mean_absolute_percentage_error, mean_squared_percentage_error, mean_squared_error\n",
    "from sktime.utils.plotting import plot_series\n",
    "from sktime.registry import all_estimators\n",
    "from sktime.datasets import load_airline\n",
    "from sktime.forecasting.compose import TransformedTargetForecaster\n",
    "from sktime.forecasting.model_selection import ForecastingGridSearchCV, SlidingWindowSplitter\n",
    "#from sktime.transformations.series.compose import OptionalPassthrough\n",
    "from sktime.transformations.series.detrend import Deseasonalizer\n",
    "from sktime.forecasting.trend import PolynomialTrendForecaster\n",
    "from sktime.forecasting.arima import AutoARIMA\n",
    "from sktime.forecasting.arima import ARIMA\n",
    "from sktime.forecasting.fbprophet import Prophet\n",
    "import sktime\n",
    "from sktime.forecasting.base import ForecastingHorizon\n",
    "from sktime.forecasting.model_selection import temporal_train_test_split"
   ]
  },
  {
   "cell_type": "code",
   "execution_count": 23,
   "metadata": {},
   "outputs": [
    {
     "name": "stdout",
     "output_type": "stream",
     "text": [
      "<class 'pandas.core.frame.DataFrame'>\n",
      "Int64Index: 1461 entries, 0 to 1460\n",
      "Data columns (total 19 columns):\n",
      " #   Column                       Non-Null Count  Dtype         \n",
      "---  ------                       --------------  -----         \n",
      " 0   Date/Time                    1461 non-null   datetime64[ns]\n",
      " 1   Air Quality Index            1461 non-null   float64       \n",
      " 2   Carbon Monoxide              1461 non-null   float64       \n",
      " 3   Hydrogen Sulphide            1448 non-null   float64       \n",
      " 4   Methane                      1459 non-null   float64       \n",
      " 5   Nitric Oxide                 1461 non-null   float64       \n",
      " 6   Nitrogen Dioxide             1461 non-null   float64       \n",
      " 7   Non-methane Hydrocarbons     1455 non-null   float64       \n",
      " 8   Outdoor Air Temperature      1461 non-null   float64       \n",
      " 9   Ozone                        1461 non-null   float64       \n",
      " 10  PM10 Mass                    412 non-null    float64       \n",
      " 11  PM2.5 Mass                   1461 non-null   float64       \n",
      " 12  Relative Humidity            1452 non-null   float64       \n",
      " 13  Std. Dev. of Wind Direction  1461 non-null   float64       \n",
      " 14  Sulphur Dioxide              1461 non-null   float64       \n",
      " 15  Total Hydrocarbons           1461 non-null   float64       \n",
      " 16  Total Oxides Of Nitrogen     1461 non-null   float64       \n",
      " 17  Wind Direction               1461 non-null   float64       \n",
      " 18  Wind Speed                   1461 non-null   float64       \n",
      "dtypes: datetime64[ns](1), float64(18)\n",
      "memory usage: 228.3 KB\n"
     ]
    }
   ],
   "source": [
    "pivoted_df.info()"
   ]
  },
  {
   "attachments": {},
   "cell_type": "markdown",
   "metadata": {},
   "source": [
    "parameter: Date/Time,Air Quality Index,Carbon Monoxide ,Methane,Nitric Oxide,Nitrogen Dioxide,Outdoor Air Temperature,Ozone, PM10 Mass, PM2.5 Mass, Relative humidity, relative himidity, sulphur dioxide, wind direction"
   ]
  },
  {
   "attachments": {},
   "cell_type": "markdown",
   "metadata": {},
   "source": [
    "### Monte Carlo simulation<br>\n",
    "Monte Carlo simulation is used to fill missing values in data. Monte Carlo simulation is a computational technique that uses random sampling to simulate various possible outcomes of a system or process. In the context of filling missing data, Monte Carlo simulation involves generating random values for the missing data points based on the statistical properties of the existing data."
   ]
  },
  {
   "cell_type": "code",
   "execution_count": 24,
   "metadata": {},
   "outputs": [],
   "source": [
    "# Fill missing values with Monte Carlo simulation\n",
    "for col in pivoted_df.columns:\n",
    "    if pivoted_df[col].isnull().sum() > 0:\n",
    "        mean = pivoted_df[col].mean()\n",
    "        std = pivoted_df[col].std()\n",
    "        null_count = pivoted_df[col].isnull().sum()\n",
    "        fill_values = np.random.normal(loc=mean, scale=std, size=null_count)\n",
    "        pivoted_df.loc[pivoted_df[col].isnull(), col] = fill_values"
   ]
  },
  {
   "cell_type": "code",
   "execution_count": 25,
   "metadata": {},
   "outputs": [],
   "source": [
    "pivoted_df['Date/Time'] = pd.to_datetime(pivoted_df['Date/Time'])"
   ]
  },
  {
   "cell_type": "code",
   "execution_count": 26,
   "metadata": {},
   "outputs": [
    {
     "data": {
      "text/plain": [
       "0   2015-01-01\n",
       "1   2015-01-02\n",
       "2   2015-01-03\n",
       "3   2015-01-04\n",
       "4   2015-01-05\n",
       "Name: Date/Time, dtype: datetime64[ns]"
      ]
     },
     "execution_count": 26,
     "metadata": {},
     "output_type": "execute_result"
    }
   ],
   "source": [
    "pivoted_df['Date/Time'].head()"
   ]
  },
  {
   "cell_type": "code",
   "execution_count": 27,
   "metadata": {},
   "outputs": [
    {
     "data": {
      "text/plain": [
       "1456   2018-12-27\n",
       "1457   2018-12-28\n",
       "1458   2018-12-29\n",
       "1459   2018-12-30\n",
       "1460   2018-12-31\n",
       "Name: Date/Time, dtype: datetime64[ns]"
      ]
     },
     "execution_count": 27,
     "metadata": {},
     "output_type": "execute_result"
    }
   ],
   "source": [
    "pivoted_df['Date/Time'].tail()"
   ]
  },
  {
   "cell_type": "code",
   "execution_count": 28,
   "metadata": {},
   "outputs": [
    {
     "data": {
      "text/plain": [
       "1446   2018-12-17\n",
       "1447   2018-12-18\n",
       "1448   2018-12-19\n",
       "1449   2018-12-20\n",
       "1450   2018-12-21\n",
       "1451   2018-12-22\n",
       "1452   2018-12-23\n",
       "1453   2018-12-24\n",
       "1454   2018-12-25\n",
       "1455   2018-12-26\n",
       "1456   2018-12-27\n",
       "1457   2018-12-28\n",
       "1458   2018-12-29\n",
       "1459   2018-12-30\n",
       "1460   2018-12-31\n",
       "Name: Date/Time, dtype: datetime64[ns]"
      ]
     },
     "execution_count": 28,
     "metadata": {},
     "output_type": "execute_result"
    }
   ],
   "source": [
    "pivoted_df['Date/Time'].tail(15)"
   ]
  },
  {
   "cell_type": "code",
   "execution_count": 29,
   "metadata": {},
   "outputs": [
    {
     "name": "stdout",
     "output_type": "stream",
     "text": [
      "<class 'pandas.core.frame.DataFrame'>\n",
      "Int64Index: 1461 entries, 0 to 1460\n",
      "Data columns (total 19 columns):\n",
      " #   Column                       Non-Null Count  Dtype         \n",
      "---  ------                       --------------  -----         \n",
      " 0   Date/Time                    1461 non-null   datetime64[ns]\n",
      " 1   Air Quality Index            1461 non-null   float64       \n",
      " 2   Carbon Monoxide              1461 non-null   float64       \n",
      " 3   Hydrogen Sulphide            1461 non-null   float64       \n",
      " 4   Methane                      1461 non-null   float64       \n",
      " 5   Nitric Oxide                 1461 non-null   float64       \n",
      " 6   Nitrogen Dioxide             1461 non-null   float64       \n",
      " 7   Non-methane Hydrocarbons     1461 non-null   float64       \n",
      " 8   Outdoor Air Temperature      1461 non-null   float64       \n",
      " 9   Ozone                        1461 non-null   float64       \n",
      " 10  PM10 Mass                    1461 non-null   float64       \n",
      " 11  PM2.5 Mass                   1461 non-null   float64       \n",
      " 12  Relative Humidity            1461 non-null   float64       \n",
      " 13  Std. Dev. of Wind Direction  1461 non-null   float64       \n",
      " 14  Sulphur Dioxide              1461 non-null   float64       \n",
      " 15  Total Hydrocarbons           1461 non-null   float64       \n",
      " 16  Total Oxides Of Nitrogen     1461 non-null   float64       \n",
      " 17  Wind Direction               1461 non-null   float64       \n",
      " 18  Wind Speed                   1461 non-null   float64       \n",
      "dtypes: datetime64[ns](1), float64(18)\n",
      "memory usage: 228.3 KB\n"
     ]
    }
   ],
   "source": [
    "pivoted_df.info()"
   ]
  },
  {
   "cell_type": "code",
   "execution_count": 30,
   "metadata": {},
   "outputs": [
    {
     "data": {
      "image/png": "[encoded data removed]",
      "text/plain": [
       "<Figure size 720x720 with 20 Axes>"
      ]
     },
     "metadata": {
      "needs_background": "light"
     },
     "output_type": "display_data"
    }
   ],
   "source": [
    "pivoted_df.hist(figsize=(10,10))\n",
    "plt.show()"
   ]
  },
  {
   "cell_type": "code",
   "execution_count": 31,
   "metadata": {},
   "outputs": [],
   "source": [
    "# Convert the 'date' column to a datetime object and set it as the index\n",
    "pivoted_df['Date/Time'] = pd.to_datetime(pivoted_df['Date/Time'])\n",
    "pivoted_df.set_index('Date/Time', inplace=True)"
   ]
  },
  {
   "cell_type": "code",
   "execution_count": 32,
   "metadata": {},
   "outputs": [],
   "source": [
    "import pandas as pd\n",
    "from statsmodels.tsa.statespace.sarimax import SARIMAX"
   ]
  },
  {
   "cell_type": "code",
   "execution_count": 33,
   "metadata": {},
   "outputs": [],
   "source": [
    "pdf=pivoted_df"
   ]
  },
  {
   "cell_type": "code",
   "execution_count": null,
   "metadata": {},
   "outputs": [],
   "source": []
  },
  {
   "cell_type": "code",
   "execution_count": 34,
   "metadata": {},
   "outputs": [
    {
     "name": "stdout",
     "output_type": "stream",
     "text": [
      "No non-numeric values found\n"
     ]
    }
   ],
   "source": [
    "# check if the 'Methane' column has any non-numeric values\n",
    "pdf['Methane'] = pd.to_numeric(pdf['Methane'], errors='coerce')\n",
    "if pd.isna(pdf['Methane']).any():\n",
    "    # replace the non-numeric values with the mean of the other values in the column\n",
    "    pdf['Methane'] = pd.to_numeric(pdf['Methane'], errors='coerce')\n",
    "    pdf['Methane'].fillna(pdf['Methane'].mean(), inplace=True)\n",
    "    print(\"Non-numeric values replaced with mean\")\n",
    "else:\n",
    "    print(\"No non-numeric values found\")"
   ]
  },
  {
   "cell_type": "code",
   "execution_count": 35,
   "metadata": {},
   "outputs": [
    {
     "name": "stdout",
     "output_type": "stream",
     "text": [
      "<class 'pandas.core.frame.DataFrame'>\n",
      "DatetimeIndex: 1461 entries, 2015-01-01 to 2018-12-31\n",
      "Data columns (total 18 columns):\n",
      " #   Column                       Non-Null Count  Dtype  \n",
      "---  ------                       --------------  -----  \n",
      " 0   Air Quality Index            1461 non-null   float64\n",
      " 1   Carbon Monoxide              1461 non-null   float64\n",
      " 2   Hydrogen Sulphide            1461 non-null   float64\n",
      " 3   Methane                      1461 non-null   float64\n",
      " 4   Nitric Oxide                 1461 non-null   float64\n",
      " 5   Nitrogen Dioxide             1461 non-null   float64\n",
      " 6   Non-methane Hydrocarbons     1461 non-null   float64\n",
      " 7   Outdoor Air Temperature      1461 non-null   float64\n",
      " 8   Ozone                        1461 non-null   float64\n",
      " 9   PM10 Mass                    1461 non-null   float64\n",
      " 10  PM2.5 Mass                   1461 non-null   float64\n",
      " 11  Relative Humidity            1461 non-null   float64\n",
      " 12  Std. Dev. of Wind Direction  1461 non-null   float64\n",
      " 13  Sulphur Dioxide              1461 non-null   float64\n",
      " 14  Total Hydrocarbons           1461 non-null   float64\n",
      " 15  Total Oxides Of Nitrogen     1461 non-null   float64\n",
      " 16  Wind Direction               1461 non-null   float64\n",
      " 17  Wind Speed                   1461 non-null   float64\n",
      "dtypes: float64(18)\n",
      "memory usage: 216.9 KB\n"
     ]
    }
   ],
   "source": [
    "pdf.info()"
   ]
  },
  {
   "cell_type": "code",
   "execution_count": null,
   "metadata": {},
   "outputs": [],
   "source": []
  },
  {
   "cell_type": "code",
   "execution_count": 36,
   "metadata": {},
   "outputs": [
    {
     "name": "stdout",
     "output_type": "stream",
     "text": [
      "2018-01-01    2.276420\n",
      "2018-01-02    2.298469\n",
      "2018-01-03    2.254567\n",
      "2018-01-04    2.636329\n",
      "2018-01-05    2.885132\n",
      "                ...   \n",
      "2018-12-27    2.287018\n",
      "2018-12-28    2.129984\n",
      "2018-12-29    2.332278\n",
      "2018-12-30    1.898745\n",
      "2018-12-31    2.060987\n",
      "Freq: D, Name: predicted_mean, Length: 365, dtype: float64\n"
     ]
    }
   ],
   "source": [
    "# Resample the data to daily frequency and fill missing values with pad method\n",
    "pdf = pdf.resample('D').pad()\n",
    "\n",
    "# Create a new dataframe with the columns we are interested in\n",
    "data = pdf[['Air Quality Index', 'Carbon Monoxide', 'Methane', 'Nitric Oxide', 'Nitrogen Dioxide',\n",
    "           'Outdoor Air Temperature', 'Ozone', 'PM2.5 Mass', 'Sulphur Dioxide']]\n",
    "\n",
    "# Split the data into training and testing sets\n",
    "train_data = data[:'2017-12-31']\n",
    "test_data = data['2018-01-01':]\n",
    "\n",
    "# Define the order of the SARIMA model\n",
    "order = (1, 1, 1)\n",
    "seasonal_order = (1, 0, 1, 7)\n",
    "\n",
    "# Get the exogenous data for the specified date range\n",
    "start_date = '2018-01-01'\n",
    "end_date = '2018-12-31'\n",
    "exog_data = test_data.loc[start_date:end_date].drop(columns=['Air Quality Index'])\n",
    "\n",
    "# Check if there are any rows in the exogenous data for the specified date range\n",
    "if exog_data.shape[0] == 0:\n",
    "    print(\"No rows found for the specified date range.\")\n",
    "else:\n",
    "    # Fit the SARIMA model to the training data\n",
    "    model1 = SARIMAX(train_data['Air Quality Index'], exog=train_data.drop(columns=['Air Quality Index']), order=order, seasonal_order=seasonal_order)\n",
    "    results1 = model1.fit()\n",
    "\n",
    "    # Generate predictions for the specified period\n",
    "    predictions1 = results1.predict(start=start_date, end=end_date, exog=exog_data)\n",
    "\n",
    "    # Print the predicted AQI values for the specified period\n",
    "    print(predictions1)\n"
   ]
  },
  {
   "cell_type": "code",
   "execution_count": 37,
   "metadata": {},
   "outputs": [
    {
     "name": "stdout",
     "output_type": "stream",
     "text": [
      "2018-04-01    2.722373\n",
      "2018-04-02    2.791993\n",
      "2018-04-03    2.831971\n",
      "2018-04-04    2.854928\n",
      "2018-04-05    2.868111\n",
      "2018-04-06    2.875681\n",
      "2018-04-07    2.880028\n",
      "2018-04-08    2.882524\n",
      "2018-04-09    2.883958\n",
      "2018-04-10    2.884781\n",
      "2018-04-11    2.885254\n",
      "2018-04-12    2.885525\n",
      "Freq: D, Name: predicted_mean, dtype: float64\n",
      "Root Mean Squared Error: nan\n"
     ]
    }
   ],
   "source": [
    "import pandas as pd\n",
    "import numpy as np\n",
    "import statsmodels.api as sm\n",
    "\n",
    "# Load the data into a pandas DataFrame\n",
    "df = pd.read_excel('Final_Data.xlsx', parse_dates=['Date/Time'])\n",
    "\n",
    "# Set the index to the Date/Time column\n",
    "df.set_index('Date/Time', inplace=True)\n",
    "\n",
    "# Create a new DataFrame with only the AQI column\n",
    "aqi_df = df[['Air Quality Index']]\n",
    "\n",
    "# Split the data into training and testing sets\n",
    "train_data = aqi_df.iloc[:-12] # Use all but the last 12 months as training data\n",
    "test_data = aqi_df.iloc[-12:] # Use the last 12 months as testing data\n",
    "\n",
    "# Fit an ARIMA model to the training data\n",
    "arima_model = sm.tsa.ARIMA(train_data, order=(1,1,1)).fit()\n",
    "\n",
    "# Make predictions on the testing data using the fitted model\n",
    "predictions = arima_model.predict(start='2018-04-01', end='2018-04-12', dynamic=True)\n",
    "\n",
    "# Print predictions\n",
    "print(predictions)\n",
    "\n",
    "# Calculate the root mean squared error of the predictions\n",
    "rmse = np.sqrt(((predictions - test_data['Air Quality Index']) ** 2).mean(skipna=True))\n",
    "print(f\"Root Mean Squared Error: {rmse:.2f}\")\n",
    "\n"
   ]
  },
  {
   "cell_type": "code",
   "execution_count": 38,
   "metadata": {},
   "outputs": [
    {
     "name": "stdout",
     "output_type": "stream",
     "text": [
      "0\n",
      "0\n"
     ]
    }
   ],
   "source": [
    "print(predictions.isnull().sum())\n",
    "print(test_data['Air Quality Index'].isnull().sum())\n"
   ]
  },
  {
   "cell_type": "code",
   "execution_count": 39,
   "metadata": {},
   "outputs": [
    {
     "name": "stdout",
     "output_type": "stream",
     "text": [
      "Root Mean Squared Error: nan\n"
     ]
    }
   ],
   "source": [
    "# Calculate the mean squared error of the predictions for ARIMA MODEL:\n",
    "mse = ((predictions - test_data['Air Quality Index'])**2).mean()\n",
    "if mse == 0:\n",
    "    rmse = 0\n",
    "else:\n",
    "    rmse = np.sqrt(mse)\n",
    "print(f\"Root Mean Squared Error: {rmse:.2f}\")"
   ]
  },
  {
   "cell_type": "code",
   "execution_count": 40,
   "metadata": {},
   "outputs": [],
   "source": [
    "from prophet import Prophet as fbProphet"
   ]
  },
  {
   "cell_type": "code",
   "execution_count": 41,
   "metadata": {},
   "outputs": [
    {
     "name": "stdout",
     "output_type": "stream",
     "text": [
      "2019-01-01    2.206099\n",
      "2019-01-02    2.231153\n",
      "2019-01-03    2.192456\n",
      "2019-01-04    2.257022\n",
      "2019-01-05    2.257806\n",
      "2019-01-06    2.251016\n",
      "2019-01-07    2.219838\n",
      "2019-01-08    2.230562\n",
      "2019-01-09    2.272712\n",
      "2019-01-10    2.287977\n",
      "2019-01-11    2.369583\n",
      "2019-01-12    2.328085\n",
      "Freq: D, Name: predicted_mean, dtype: float64\n"
     ]
    }
   ],
   "source": [
    "import statsmodels.api as sm\n",
    "\n",
    "# Define the SARIMAX model\n",
    "model = sm.tsa.statespace.SARIMAX(pdf['Air Quality Index'], order=(1,1,1), seasonal_order=(1,1,1,12))\n",
    "\n",
    "# Fit the model to the data\n",
    "results = model.fit()\n",
    "\n",
    "# Make predictions for the next year (12 months)\n",
    "forecast = results.forecast(steps=12)\n",
    "\n",
    "# Print the forecasted AQI values for the next year\n",
    "print(forecast)\n"
   ]
  },
  {
   "cell_type": "code",
   "execution_count": 42,
   "metadata": {},
   "outputs": [],
   "source": [
    "from sktime.forecasting.fbprophet import Prophet\n",
    "\n",
    "\n",
    "# Load the data into a pandas DataFrame\n",
    "df1 = pd.read_excel('Final_Data.xlsx')\n",
    "\n",
    "# Rename the Date/Time column to ds and Air Quality Index column to y\n",
    "df1 = df1.rename(columns={'Date/Time': 'ds', 'Air Quality Index': 'y'})"
   ]
  },
  {
   "cell_type": "code",
   "execution_count": 43,
   "metadata": {},
   "outputs": [
    {
     "data": {
      "text/plain": [
       "2"
      ]
     },
     "execution_count": 43,
     "metadata": {},
     "output_type": "execute_result"
    }
   ],
   "source": [
    "df1['Methane'].isnull().sum()"
   ]
  },
  {
   "cell_type": "code",
   "execution_count": 44,
   "metadata": {},
   "outputs": [
    {
     "data": {
      "text/plain": [
       "pandas.core.series.Series"
      ]
     },
     "execution_count": 44,
     "metadata": {},
     "output_type": "execute_result"
    }
   ],
   "source": [
    "type(df1['Methane'])"
   ]
  },
  {
   "cell_type": "code",
   "execution_count": 45,
   "metadata": {},
   "outputs": [
    {
     "name": "stdout",
     "output_type": "stream",
     "text": [
      "Non-numeric values replaced with mean\n"
     ]
    }
   ],
   "source": [
    "# check if the 'Methane' column has any non-numeric values\n",
    "df1['Methane'] = pd.to_numeric(df1['Methane'], errors='coerce')\n",
    "if pd.isna(df1['Methane']).any():\n",
    "    # replace the non-numeric values with the mean of the other values in the column\n",
    "    df1['Methane'] = pd.to_numeric(df1['Methane'], errors='coerce')\n",
    "    df1['Methane'].fillna(df1['Methane'].mean(), inplace=True)\n",
    "    print(\"Non-numeric values replaced with mean\")\n",
    "else:\n",
    "    print(\"No non-numeric values found\")"
   ]
  },
  {
   "cell_type": "code",
   "execution_count": 46,
   "metadata": {},
   "outputs": [
    {
     "data": {
      "text/plain": [
       "0"
      ]
     },
     "execution_count": 46,
     "metadata": {},
     "output_type": "execute_result"
    }
   ],
   "source": [
    "df1['Methane'].isnull().sum()"
   ]
  },
  {
   "cell_type": "code",
   "execution_count": 47,
   "metadata": {},
   "outputs": [],
   "source": [
    "df1.drop('PM10 Mass', axis=1, inplace=True)"
   ]
  },
  {
   "cell_type": "code",
   "execution_count": 48,
   "metadata": {},
   "outputs": [
    {
     "name": "stdout",
     "output_type": "stream",
     "text": [
      "<class 'pandas.core.frame.DataFrame'>\n",
      "RangeIndex: 1461 entries, 0 to 1460\n",
      "Data columns (total 18 columns):\n",
      " #   Column                       Non-Null Count  Dtype  \n",
      "---  ------                       --------------  -----  \n",
      " 0   ds                           1461 non-null   object \n",
      " 1   y                            1461 non-null   float64\n",
      " 2   Carbon Monoxide              1461 non-null   float64\n",
      " 3   Hydrogen Sulphide            1448 non-null   float64\n",
      " 4   Methane                      1461 non-null   float64\n",
      " 5   Nitric Oxide                 1461 non-null   float64\n",
      " 6   Nitrogen Dioxide             1461 non-null   float64\n",
      " 7   Non-methane Hydrocarbons     1455 non-null   float64\n",
      " 8   Outdoor Air Temperature      1461 non-null   float64\n",
      " 9   Ozone                        1461 non-null   float64\n",
      " 10  PM2.5 Mass                   1461 non-null   float64\n",
      " 11  Relative Humidity            1452 non-null   float64\n",
      " 12  Std. Dev. of Wind Direction  1461 non-null   float64\n",
      " 13  Sulphur Dioxide              1461 non-null   float64\n",
      " 14  Total Hydrocarbons           1461 non-null   float64\n",
      " 15  Total Oxides Of Nitrogen     1461 non-null   float64\n",
      " 16  Wind Direction               1461 non-null   float64\n",
      " 17  Wind Speed                   1461 non-null   float64\n",
      "dtypes: float64(17), object(1)\n",
      "memory usage: 205.6+ KB\n"
     ]
    }
   ],
   "source": [
    "df1.info()"
   ]
  },
  {
   "cell_type": "code",
   "execution_count": 49,
   "metadata": {},
   "outputs": [],
   "source": [
    "df1.dropna(axis=1, inplace=True)"
   ]
  },
  {
   "cell_type": "code",
   "execution_count": 50,
   "metadata": {},
   "outputs": [
    {
     "name": "stdout",
     "output_type": "stream",
     "text": [
      "<class 'pandas.core.frame.DataFrame'>\n",
      "RangeIndex: 1461 entries, 0 to 1460\n",
      "Data columns (total 15 columns):\n",
      " #   Column                       Non-Null Count  Dtype  \n",
      "---  ------                       --------------  -----  \n",
      " 0   ds                           1461 non-null   object \n",
      " 1   y                            1461 non-null   float64\n",
      " 2   Carbon Monoxide              1461 non-null   float64\n",
      " 3   Methane                      1461 non-null   float64\n",
      " 4   Nitric Oxide                 1461 non-null   float64\n",
      " 5   Nitrogen Dioxide             1461 non-null   float64\n",
      " 6   Outdoor Air Temperature      1461 non-null   float64\n",
      " 7   Ozone                        1461 non-null   float64\n",
      " 8   PM2.5 Mass                   1461 non-null   float64\n",
      " 9   Std. Dev. of Wind Direction  1461 non-null   float64\n",
      " 10  Sulphur Dioxide              1461 non-null   float64\n",
      " 11  Total Hydrocarbons           1461 non-null   float64\n",
      " 12  Total Oxides Of Nitrogen     1461 non-null   float64\n",
      " 13  Wind Direction               1461 non-null   float64\n",
      " 14  Wind Speed                   1461 non-null   float64\n",
      "dtypes: float64(14), object(1)\n",
      "memory usage: 171.3+ KB\n"
     ]
    }
   ],
   "source": [
    "df1.info()"
   ]
  },
  {
   "cell_type": "code",
   "execution_count": 51,
   "metadata": {},
   "outputs": [
    {
     "name": "stderr",
     "output_type": "stream",
     "text": [
      "19:10:24 - cmdstanpy - INFO - Chain [1] start processing\n",
      "19:10:25 - cmdstanpy - INFO - Chain [1] done processing\n"
     ]
    },
    {
     "name": "stdout",
     "output_type": "stream",
     "text": [
      "           ds      yhat  yhat_lower  yhat_upper\n",
      "0  2018-12-14  2.458734    2.270116    2.657148\n",
      "1  2018-12-15  2.532238    2.340269    2.720104\n",
      "2  2018-12-16  2.485061    2.299891    2.695282\n",
      "3  2018-12-17  2.457270    2.264872    2.658729\n",
      "4  2018-12-18  2.651287    2.462392    2.846546\n",
      "5  2018-12-19  2.418297    2.220999    2.618034\n",
      "6  2018-12-20  2.323097    2.136173    2.525273\n",
      "7  2018-12-21  2.418796    2.218452    2.632553\n",
      "8  2018-12-22  2.479191    2.277399    2.674297\n",
      "9  2018-12-23  2.544519    2.337887    2.734738\n",
      "10 2018-12-24  2.492929    2.298009    2.699776\n",
      "11 2018-12-25  2.536073    2.350468    2.747014\n",
      "12 2018-12-26  2.195409    2.002395    2.388114\n",
      "13 2018-12-27  2.434911    2.237979    2.642820\n",
      "14 2018-12-28  2.321749    2.139846    2.528744\n",
      "15 2018-12-29  2.504055    2.307311    2.696341\n",
      "16 2018-12-30  2.069113    1.877317    2.252334\n",
      "17 2018-12-31  2.248711    2.052827    2.445537\n"
     ]
    }
   ],
   "source": [
    "\n",
    "\n",
    "# Create a new Prophet model\n",
    "model = fbProphet(daily_seasonality=True)\n",
    "\n",
    "# Add additional regressors to the model\n",
    "model.add_regressor('Carbon Monoxide')\n",
    "model.add_regressor('Methane')\n",
    "model.add_regressor('Nitric Oxide')\n",
    "model.add_regressor('Nitrogen Dioxide')\n",
    "model.add_regressor('Outdoor Air Temperature')\n",
    "model.add_regressor('Ozone')\n",
    "model.add_regressor('PM2.5 Mass')\n",
    "model.add_regressor('Sulphur Dioxide')\n",
    "model.add_regressor('Std. Dev. of Wind Direction')\n",
    "#model.add_regressor('Relative Humidity')\n",
    "\n",
    "\n",
    "# Split the data into training and testing sets\n",
    "train_data = df1[df1['ds'] < '2018-01-01'] # Use data up to Dec 15, 2018 for training\n",
    "test_data = df1[df1['ds'] >= '2018-12-14'] # Use data from Dec 312019 onwards for testing\n",
    "\n",
    "# Fit the model to the training data\n",
    "model.fit(train_data)\n",
    "\n",
    "\n",
    "# Make predictions for the test data\n",
    "forecast = model.predict(test_data)\n",
    "\n",
    "# Print the forecasted AQI values for the test period\n",
    "print(forecast[['ds', 'yhat', 'yhat_lower', 'yhat_upper']])\n"
   ]
  },
  {
   "cell_type": "code",
   "execution_count": 52,
   "metadata": {},
   "outputs": [
    {
     "name": "stdout",
     "output_type": "stream",
     "text": [
      "MSE: 0.02681647560396771\n"
     ]
    }
   ],
   "source": [
    "from sklearn.metrics import mean_squared_error\n",
    "import numpy as np\n",
    "\n",
    "# Calculate MSE for prophet Model:\n",
    "mse = mean_squared_error(test_data['y'], forecast['yhat'])\n",
    "print(\"MSE:\", mse)\n",
    "\n",
    "\n"
   ]
  },
  {
   "cell_type": "code",
   "execution_count": 53,
   "metadata": {},
   "outputs": [
    {
     "name": "stderr",
     "output_type": "stream",
     "text": [
      "19:10:26 - cmdstanpy - INFO - Chain [1] start processing\n",
      "19:10:26 - cmdstanpy - INFO - Chain [1] done processing\n"
     ]
    },
    {
     "name": "stdout",
     "output_type": "stream",
     "text": [
      "           ds      yhat  yhat_lower  yhat_upper  Carbon Monoxide\n",
      "0  2018-12-14  2.458734    2.248763    2.653580        -0.012043\n",
      "1  2018-12-15  2.532238    2.338274    2.716168         0.022779\n",
      "2  2018-12-16  2.485061    2.289089    2.664497         0.022175\n",
      "3  2018-12-17  2.457270    2.266876    2.667967        -0.056899\n",
      "4  2018-12-18  2.651287    2.462777    2.845154        -0.092690\n",
      "5  2018-12-19  2.418297    2.227961    2.611925        -0.050533\n",
      "6  2018-12-20  2.323097    2.130340    2.517545        -0.008994\n",
      "7  2018-12-21  2.418796    2.213936    2.619264         0.029510\n",
      "8  2018-12-22  2.479191    2.269604    2.678104        -0.005930\n",
      "9  2018-12-23  2.544519    2.339479    2.732623        -0.007771\n",
      "10 2018-12-24  2.492929    2.301955    2.674479        -0.000436\n",
      "11 2018-12-25  2.536073    2.343656    2.737173        -0.004103\n",
      "12 2018-12-26  2.195409    1.997723    2.392355         0.001405\n",
      "13 2018-12-27  2.434911    2.230045    2.622864        -0.030368\n",
      "14 2018-12-28  2.321749    2.130590    2.515438        -0.035876\n",
      "15 2018-12-29  2.504055    2.308708    2.709281        -0.004708\n",
      "16 2018-12-30  2.069113    1.887004    2.261467         0.028274\n",
      "17 2018-12-31  2.248711    2.056864    2.450058        -0.008375\n",
      "           ds      yhat  yhat_lower  yhat_upper   Methane\n",
      "0  2018-12-14  2.458734    2.248763    2.653580  0.005352\n",
      "1  2018-12-15  2.532238    2.338274    2.716168 -0.003959\n",
      "2  2018-12-16  2.485061    2.289089    2.664497  0.003029\n",
      "3  2018-12-17  2.457270    2.266876    2.667967  0.050162\n",
      "4  2018-12-18  2.651287    2.462777    2.845154  0.029549\n",
      "5  2018-12-19  2.418297    2.227961    2.611925  0.025825\n",
      "6  2018-12-20  2.323097    2.130340    2.517545  0.007203\n",
      "7  2018-12-21  2.418796    2.213936    2.619264 -0.006753\n",
      "8  2018-12-22  2.479191    2.269604    2.678104  0.004420\n",
      "9  2018-12-23  2.544519    2.339479    2.732623  0.065381\n",
      "10 2018-12-24  2.492929    2.301955    2.674479  0.070025\n",
      "11 2018-12-25  2.536073    2.343656    2.737173  0.050954\n",
      "12 2018-12-26  2.195409    1.997723    2.392355  0.027227\n",
      "13 2018-12-27  2.434911    2.230045    2.622864  0.042585\n",
      "14 2018-12-28  2.321749    2.130590    2.515438  0.029549\n",
      "15 2018-12-29  2.504055    2.308708    2.709281  0.028618\n",
      "16 2018-12-30  2.069113    1.887004    2.261467  0.011398\n",
      "17 2018-12-31  2.248711    2.056864    2.450058  0.026756\n",
      "           ds      yhat  yhat_lower  yhat_upper  Nitric Oxide\n",
      "0  2018-12-14  2.458734    2.248763    2.653580      0.014008\n",
      "1  2018-12-15  2.532238    2.338274    2.716168     -0.061286\n",
      "2  2018-12-16  2.485061    2.289089    2.664497     -0.046634\n",
      "3  2018-12-17  2.457270    2.266876    2.667967      0.151166\n",
      "4  2018-12-18  2.651287    2.462777    2.845154      0.293615\n",
      "5  2018-12-19  2.418297    2.227961    2.611925      0.088896\n",
      "6  2018-12-20  2.323097    2.130340    2.517545      0.003426\n",
      "7  2018-12-21  2.418796    2.213936    2.619264     -0.065763\n",
      "8  2018-12-22  2.479191    2.269604    2.678104     -0.006749\n",
      "9  2018-12-23  2.544519    2.339479    2.732623      0.022962\n",
      "10 2018-12-24  2.492929    2.301955    2.674479     -0.028726\n",
      "11 2018-12-25  2.536073    2.343656    2.737173      0.005054\n",
      "12 2018-12-26  2.195409    1.997723    2.392355      0.048196\n",
      "13 2018-12-27  2.434911    2.230045    2.622864      0.099071\n",
      "14 2018-12-28  2.321749    2.130590    2.515438      0.073023\n",
      "15 2018-12-29  2.504055    2.308708    2.709281     -0.031575\n",
      "16 2018-12-30  2.069113    1.887004    2.261467     -0.029133\n",
      "17 2018-12-31  2.248711    2.056864    2.450058      0.055522\n",
      "           ds      yhat  yhat_lower  yhat_upper  Nitrogen Dioxide\n",
      "0  2018-12-14  2.458734    2.248763    2.653580          0.177667\n",
      "1  2018-12-15  2.532238    2.338274    2.716168         -0.039646\n",
      "2  2018-12-16  2.485061    2.289089    2.664497         -0.033701\n",
      "3  2018-12-17  2.457270    2.266876    2.667967          0.209703\n",
      "4  2018-12-18  2.651287    2.462777    2.845154          0.445180\n",
      "5  2018-12-19  2.418297    2.227961    2.611925          0.285333\n",
      "6  2018-12-20  2.323097    2.130340    2.517545          0.131430\n",
      "7  2018-12-21  2.418796    2.213936    2.619264         -0.101736\n",
      "8  2018-12-22  2.479191    2.269604    2.678104          0.068020\n",
      "9  2018-12-23  2.544519    2.339479    2.732623          0.150586\n",
      "10 2018-12-24  2.492929    2.301955    2.674479          0.065378\n",
      "11 2018-12-25  2.536073    2.343656    2.737173          0.092459\n",
      "12 2018-12-26  2.195409    1.997723    2.392355          0.103028\n",
      "13 2018-12-27  2.434911    2.230045    2.622864          0.177007\n",
      "14 2018-12-28  2.321749    2.130590    2.515438          0.285993\n",
      "15 2018-12-29  2.504055    2.308708    2.709281          0.059433\n",
      "16 2018-12-30  2.069113    1.887004    2.261467         -0.064746\n",
      "17 2018-12-31  2.248711    2.056864    2.450058          0.137375\n",
      "           ds      yhat  yhat_lower  yhat_upper  Outdoor Air Temperature\n",
      "0  2018-12-14  2.458734    2.248763    2.653580                -0.013794\n",
      "1  2018-12-15  2.532238    2.338274    2.716168                -0.022377\n",
      "2  2018-12-16  2.485061    2.289089    2.664497                -0.046226\n",
      "3  2018-12-17  2.457270    2.266876    2.667967                -0.038040\n",
      "4  2018-12-18  2.651287    2.462777    2.845154                -0.025563\n",
      "5  2018-12-19  2.418297    2.227961    2.611925                -0.024534\n",
      "6  2018-12-20  2.323097    2.130340    2.517545                -0.025676\n",
      "7  2018-12-21  2.418796    2.213936    2.619264                -0.030613\n",
      "8  2018-12-22  2.479191    2.269604    2.678104                -0.042786\n",
      "9  2018-12-23  2.544519    2.339479    2.732623                -0.049617\n",
      "10 2018-12-24  2.492929    2.301955    2.674479                -0.054249\n",
      "11 2018-12-25  2.536073    2.343656    2.737173                -0.048581\n",
      "12 2018-12-26  2.195409    1.997723    2.392355                -0.067266\n",
      "13 2018-12-27  2.434911    2.230045    2.622864                -0.060371\n",
      "14 2018-12-28  2.321749    2.130590    2.515438                -0.044985\n",
      "15 2018-12-29  2.504055    2.308708    2.709281                -0.035089\n",
      "16 2018-12-30  2.069113    1.887004    2.261467                -0.071401\n",
      "17 2018-12-31  2.248711    2.056864    2.450058                -0.063350\n",
      "           ds      yhat  yhat_lower  yhat_upper     Ozone\n",
      "0  2018-12-14  2.458734    2.248763    2.653580 -0.113707\n",
      "1  2018-12-15  2.532238    2.338274    2.716168  0.231129\n",
      "2  2018-12-16  2.485061    2.289089    2.664497  0.134626\n",
      "3  2018-12-17  2.457270    2.266876    2.667967 -0.533171\n",
      "4  2018-12-18  2.651287    2.462777    2.845154 -0.552472\n",
      "5  2018-12-19  2.418297    2.227961    2.611925 -0.403214\n",
      "6  2018-12-20  2.323097    2.130340    2.517545 -0.166462\n",
      "7  2018-12-21  2.418796    2.213936    2.619264  0.219549\n",
      "8  2018-12-22  2.479191    2.269604    2.678104 -0.004337\n",
      "9  2018-12-23  2.544519    2.339479    2.732623 -0.274544\n",
      "10 2018-12-24  2.492929    2.301955    2.674479 -0.266824\n",
      "11 2018-12-25  2.536073    2.343656    2.737173 -0.481703\n",
      "12 2018-12-26  2.195409    1.997723    2.392355 -0.502290\n",
      "13 2018-12-27  2.434911    2.230045    2.622864 -0.641254\n",
      "14 2018-12-28  2.321749    2.130590    2.515438 -0.512584\n",
      "15 2018-12-29  2.504055    2.308708    2.709281 -0.239804\n",
      "16 2018-12-30  2.069113    1.887004    2.261467 -0.287411\n",
      "17 2018-12-31  2.248711    2.056864    2.450058 -0.394208\n",
      "           ds      yhat  yhat_lower  yhat_upper  PM2.5 Mass\n",
      "0  2018-12-14  2.458734    2.248763    2.653580   -0.162027\n",
      "1  2018-12-15  2.532238    2.338274    2.716168   -0.193074\n",
      "2  2018-12-16  2.485061    2.289089    2.664497   -0.170039\n",
      "3  2018-12-17  2.457270    2.266876    2.667967    0.090844\n",
      "4  2018-12-18  2.651287    2.462777    2.845154    0.006720\n",
      "5  2018-12-19  2.418297    2.227961    2.611925   -0.051866\n",
      "6  2018-12-20  2.323097    2.130340    2.517545   -0.198582\n",
      "7  2018-12-21  2.418796    2.213936    2.619264   -0.193857\n",
      "8  2018-12-22  2.479191    2.269604    2.678104   -0.135989\n",
      "9  2018-12-23  2.544519    2.339479    2.732623    0.019239\n",
      "10 2018-12-24  2.492929    2.301955    2.674479    0.114379\n",
      "11 2018-12-25  2.536073    2.343656    2.737173    0.358237\n",
      "12 2018-12-26  2.195409    1.997723    2.392355    0.077999\n",
      "13 2018-12-27  2.434911    2.230045    2.622864    0.278118\n",
      "14 2018-12-28  2.321749    2.130590    2.515438   -0.048862\n",
      "15 2018-12-29  2.504055    2.308708    2.709281    0.127898\n",
      "16 2018-12-30  2.069113    1.887004    2.261467   -0.129479\n",
      "17 2018-12-31  2.248711    2.056864    2.450058   -0.094429\n",
      "           ds      yhat  yhat_lower  yhat_upper  Sulphur Dioxide\n",
      "0  2018-12-14  2.458734    2.248763    2.653580         0.020313\n",
      "1  2018-12-15  2.532238    2.338274    2.716168         0.021958\n",
      "2  2018-12-16  2.485061    2.289089    2.664497         0.025249\n",
      "3  2018-12-17  2.457270    2.266876    2.667967         0.008796\n",
      "4  2018-12-18  2.651287    2.462777    2.845154         0.008796\n",
      "5  2018-12-19  2.418297    2.227961    2.611925         0.008796\n",
      "6  2018-12-20  2.323097    2.130340    2.517545         0.023603\n",
      "7  2018-12-21  2.418796    2.213936    2.619264         0.020313\n",
      "8  2018-12-22  2.479191    2.269604    2.678104         0.021958\n",
      "9  2018-12-23  2.544519    2.339479    2.732623         0.012087\n",
      "10 2018-12-24  2.492929    2.301955    2.674479         0.017023\n",
      "11 2018-12-25  2.536073    2.343656    2.737173         0.025249\n",
      "12 2018-12-26  2.195409    1.997723    2.392355        -0.040560\n",
      "13 2018-12-27  2.434911    2.230045    2.622864         0.012087\n",
      "14 2018-12-28  2.321749    2.130590    2.515438         0.023603\n",
      "15 2018-12-29  2.504055    2.308708    2.709281         0.007151\n",
      "16 2018-12-30  2.069113    1.887004    2.261467         0.005506\n",
      "17 2018-12-31  2.248711    2.056864    2.450058         0.007151\n",
      "           ds      yhat  yhat_lower  yhat_upper  Std. Dev. of Wind Direction\n",
      "0  2018-12-14  2.458734    2.248763    2.653580                    -0.003188\n",
      "1  2018-12-15  2.532238    2.338274    2.716168                    -0.001545\n",
      "2  2018-12-16  2.485061    2.289089    2.664497                    -0.000491\n",
      "3  2018-12-17  2.457270    2.266876    2.667967                     0.003342\n",
      "4  2018-12-18  2.651287    2.462777    2.845154                     0.002986\n",
      "5  2018-12-19  2.418297    2.227961    2.611925                    -0.003338\n",
      "6  2018-12-20  2.323097    2.130340    2.517545                     0.002740\n",
      "7  2018-12-21  2.418796    2.213936    2.619264                    -0.003749\n",
      "8  2018-12-22  2.479191    2.269604    2.678104                    -0.002421\n",
      "9  2018-12-23  2.544519    2.339479    2.732623                     0.005204\n",
      "10 2018-12-24  2.492929    2.301955    2.674479                     0.001645\n",
      "11 2018-12-25  2.536073    2.343656    2.737173                     0.000235\n",
      "12 2018-12-26  2.195409    1.997723    2.392355                     0.001467\n",
      "13 2018-12-27  2.434911    2.230045    2.622864                    -0.000258\n",
      "14 2018-12-28  2.321749    2.130590    2.515438                    -0.005008\n",
      "15 2018-12-29  2.504055    2.308708    2.709281                     0.002494\n",
      "16 2018-12-30  2.069113    1.887004    2.261467                    -0.003680\n",
      "17 2018-12-31  2.248711    2.056864    2.450058                    -0.003913\n"
     ]
    }
   ],
   "source": [
    "\n",
    "\n",
    "# Define the list of regressors to be included in the model\n",
    "regressors = ['Carbon Monoxide', 'Methane', 'Nitric Oxide', 'Nitrogen Dioxide', 'Outdoor Air Temperature', 'Ozone', 'PM2.5 Mass', 'Sulphur Dioxide', 'Std. Dev. of Wind Direction']\n",
    "\n",
    "# Create a new Prophet model with daily seasonality\n",
    "model = fbProphet(daily_seasonality=True)\n",
    "\n",
    "# Add all the regressors to the model\n",
    "for regressor in regressors:\n",
    "    model.add_regressor(regressor)\n",
    "\n",
    "# Split the data into training and testing sets\n",
    "train_data = df1[df1['ds'] < '2018-01-01'] # Use data up to Dec 15, 2018 for training\n",
    "test_data = df1[df1['ds'] >= '2018-12-14'] # Use data from Dec 31, 2018 onwards for testing\n",
    "\n",
    "# Fit the model to the training data\n",
    "model.fit(train_data)\n",
    "\n",
    "# Make predictions for the test data\n",
    "forecast = model.predict(test_data)\n",
    "\n",
    "# Print the forecasted values for each parameter in the test period\n",
    "for regressor in regressors:\n",
    "    print(forecast[['ds', 'yhat', 'yhat_lower', 'yhat_upper', regressor]])\n"
   ]
  },
  {
   "cell_type": "code",
   "execution_count": 54,
   "metadata": {},
   "outputs": [
    {
     "name": "stdout",
     "output_type": "stream",
     "text": [
      "y                              1.000000\n",
      "Carbon Monoxide                0.504528\n",
      "Methane                        0.134365\n",
      "Nitric Oxide                   0.091622\n",
      "Nitrogen Dioxide               0.135007\n",
      "Outdoor Air Temperature        0.157702\n",
      "Ozone                          0.426372\n",
      "PM2.5 Mass                     0.747467\n",
      "Std. Dev. of Wind Direction    0.206718\n",
      "Sulphur Dioxide                0.167969\n",
      "Total Hydrocarbons             0.195199\n",
      "Total Oxides Of Nitrogen       0.120526\n",
      "Wind Direction                -0.117362\n",
      "Wind Speed                    -0.041652\n",
      "Name: y, dtype: float64\n"
     ]
    },
    {
     "data": {
      "image/png": "[encoded data removed]",
      "text/plain": [
       "<Figure size 1620x180 with 9 Axes>"
      ]
     },
     "metadata": {
      "needs_background": "light"
     },
     "output_type": "display_data"
    }
   ],
   "source": [
    "import seaborn as sns\n",
    "\n",
    "# Create scatterplots of each predictor against the target variable\n",
    "sns.pairplot(df1, y_vars=['y'], x_vars=['Carbon Monoxide', 'Methane', 'Nitric Oxide', 'Nitrogen Dioxide',\n",
    "                                      'Outdoor Air Temperature', 'Ozone', 'PM2.5 Mass', 'Sulphur Dioxide',\n",
    "                                      'Std. Dev. of Wind Direction'])\n",
    "\n",
    "# Compute correlation coefficients\n",
    "corr = df1.corr()['y']\n",
    "print(corr)\n"
   ]
  },
  {
   "attachments": {},
   "cell_type": "markdown",
   "metadata": {},
   "source": [
    "### Above calculation shows that PM2.5 have high correlation with AQI"
   ]
  },
  {
   "attachments": {},
   "cell_type": "markdown",
   "metadata": {},
   "source": [
    "## Wildfire Data:"
   ]
  },
  {
   "attachments": {},
   "cell_type": "markdown",
   "metadata": {},
   "source": [
    "#### EDA for wildfire Data:"
   ]
  },
  {
   "cell_type": "code",
   "execution_count": 55,
   "metadata": {},
   "outputs": [
    {
     "name": "stdout",
     "output_type": "stream",
     "text": [
      "<class 'pandas.core.frame.DataFrame'>\n",
      "RangeIndex: 2214 entries, 0 to 2213\n",
      "Data columns (total 31 columns):\n",
      " #   Column                        Non-Null Count  Dtype  \n",
      "---  ------                        --------------  -----  \n",
      " 0   fire_number                   2214 non-null   object \n",
      " 1   fire_name                     135 non-null    object \n",
      " 2   fire_year                     2214 non-null   int64  \n",
      " 3   assessment_datetime           2214 non-null   object \n",
      " 4   assessment_hectares           2214 non-null   float64\n",
      " 5   current_size                  2214 non-null   float64\n",
      " 6   size_class                    2214 non-null   object \n",
      " 7   fire_location_latitude        2214 non-null   float64\n",
      " 8   fire_location_longitude       2214 non-null   float64\n",
      " 9   fire_origin                   2214 non-null   object \n",
      " 10  general_cause_desc            2214 non-null   object \n",
      " 11  fire_start_date               2214 non-null   object \n",
      " 12  det_agent_type                2214 non-null   object \n",
      " 13  discovered_date               1995 non-null   object \n",
      " 14  reported_date                 2214 non-null   object \n",
      " 15  start_for_fire_date           2214 non-null   object \n",
      " 16  fire_fighting_start_date      2143 non-null   object \n",
      " 17  fire_fighting_start_size      2143 non-null   float64\n",
      " 18  initial_action_by             2214 non-null   object \n",
      " 19  fire_type                     2214 non-null   object \n",
      " 20  fire_position_on_slope        2214 non-null   object \n",
      " 21  weather_conditions_over_fire  2214 non-null   object \n",
      " 22  fuel_type                     2170 non-null   object \n",
      " 23  other_fuel_type               44 non-null     object \n",
      " 24  bh_hectares                   2214 non-null   float64\n",
      " 25  uc_fs_date                    2214 non-null   object \n",
      " 26  uc_hectares                   2214 non-null   float64\n",
      " 27  to_fs_date                    3 non-null      object \n",
      " 28  to_hectares                   3 non-null      float64\n",
      " 29  ex_fs_date                    2214 non-null   object \n",
      " 30  ex_hectares                   2214 non-null   float64\n",
      "dtypes: float64(9), int64(1), object(21)\n",
      "memory usage: 536.3+ KB\n"
     ]
    }
   ],
   "source": [
    "df_wildfire=pd.read_csv('Wildfire_2015to2018.csv')\n",
    "df_wildfire.info()"
   ]
  },
  {
   "cell_type": "code",
   "execution_count": 56,
   "metadata": {},
   "outputs": [
    {
     "data": {
      "text/html": [
       "<div>\n",
       "<style scoped>\n",
       "    .dataframe tbody tr th:only-of-type {\n",
       "        vertical-align: middle;\n",
       "    }\n",
       "\n",
       "    .dataframe tbody tr th {\n",
       "        vertical-align: top;\n",
       "    }\n",
       "\n",
       "    .dataframe thead th {\n",
       "        text-align: right;\n",
       "    }\n",
       "</style>\n",
       "<table border=\"1\" class=\"dataframe\">\n",
       "  <thead>\n",
       "    <tr style=\"text-align: right;\">\n",
       "      <th></th>\n",
       "      <th>fire_number</th>\n",
       "      <th>fire_name</th>\n",
       "      <th>fire_year</th>\n",
       "      <th>assessment_datetime</th>\n",
       "      <th>assessment_hectares</th>\n",
       "      <th>current_size</th>\n",
       "      <th>size_class</th>\n",
       "      <th>fire_location_latitude</th>\n",
       "      <th>fire_location_longitude</th>\n",
       "      <th>fire_origin</th>\n",
       "      <th>...</th>\n",
       "      <th>weather_conditions_over_fire</th>\n",
       "      <th>fuel_type</th>\n",
       "      <th>other_fuel_type</th>\n",
       "      <th>bh_hectares</th>\n",
       "      <th>uc_fs_date</th>\n",
       "      <th>uc_hectares</th>\n",
       "      <th>to_fs_date</th>\n",
       "      <th>to_hectares</th>\n",
       "      <th>ex_fs_date</th>\n",
       "      <th>ex_hectares</th>\n",
       "    </tr>\n",
       "  </thead>\n",
       "  <tbody>\n",
       "    <tr>\n",
       "      <th>1296</th>\n",
       "      <td>CWF225</td>\n",
       "      <td>NaN</td>\n",
       "      <td>2017</td>\n",
       "      <td>2017/8/10 14:22</td>\n",
       "      <td>0.01</td>\n",
       "      <td>0.01</td>\n",
       "      <td>A</td>\n",
       "      <td>50.584533</td>\n",
       "      <td>-114.794550</td>\n",
       "      <td>Provincial Park</td>\n",
       "      <td>...</td>\n",
       "      <td>CB Wet</td>\n",
       "      <td>C3</td>\n",
       "      <td>NaN</td>\n",
       "      <td>0.01</td>\n",
       "      <td>2017/8/10 16:35</td>\n",
       "      <td>0.01</td>\n",
       "      <td>NaN</td>\n",
       "      <td>NaN</td>\n",
       "      <td>2017/8/11 15:20</td>\n",
       "      <td>0.01</td>\n",
       "    </tr>\n",
       "    <tr>\n",
       "      <th>1510</th>\n",
       "      <td>MWF058</td>\n",
       "      <td>NaN</td>\n",
       "      <td>2017</td>\n",
       "      <td>2017/7/27 18:49</td>\n",
       "      <td>0.01</td>\n",
       "      <td>0.01</td>\n",
       "      <td>A</td>\n",
       "      <td>56.505133</td>\n",
       "      <td>-112.629167</td>\n",
       "      <td>Provincial Land</td>\n",
       "      <td>...</td>\n",
       "      <td>CB Wet</td>\n",
       "      <td>C2</td>\n",
       "      <td>NaN</td>\n",
       "      <td>0.01</td>\n",
       "      <td>2017/7/27 19:35</td>\n",
       "      <td>0.01</td>\n",
       "      <td>NaN</td>\n",
       "      <td>NaN</td>\n",
       "      <td>2017/7/27 20:54</td>\n",
       "      <td>0.01</td>\n",
       "    </tr>\n",
       "    <tr>\n",
       "      <th>1679</th>\n",
       "      <td>SWF103</td>\n",
       "      <td>NaN</td>\n",
       "      <td>2017</td>\n",
       "      <td>2017/8/9 21:00</td>\n",
       "      <td>0.01</td>\n",
       "      <td>0.01</td>\n",
       "      <td>A</td>\n",
       "      <td>56.929267</td>\n",
       "      <td>-115.692867</td>\n",
       "      <td>Provincial Land</td>\n",
       "      <td>...</td>\n",
       "      <td>Clear</td>\n",
       "      <td>M2</td>\n",
       "      <td>NaN</td>\n",
       "      <td>0.01</td>\n",
       "      <td>2017/8/10 19:00</td>\n",
       "      <td>0.01</td>\n",
       "      <td>NaN</td>\n",
       "      <td>NaN</td>\n",
       "      <td>2017/8/10 19:15</td>\n",
       "      <td>0.01</td>\n",
       "    </tr>\n",
       "    <tr>\n",
       "      <th>1652</th>\n",
       "      <td>SWF072</td>\n",
       "      <td>NaN</td>\n",
       "      <td>2017</td>\n",
       "      <td>2017/7/15 13:44</td>\n",
       "      <td>0.50</td>\n",
       "      <td>0.80</td>\n",
       "      <td>B</td>\n",
       "      <td>55.921567</td>\n",
       "      <td>-114.901333</td>\n",
       "      <td>Provincial Land</td>\n",
       "      <td>...</td>\n",
       "      <td>Clear</td>\n",
       "      <td>M1</td>\n",
       "      <td>NaN</td>\n",
       "      <td>0.50</td>\n",
       "      <td>2017/7/15 14:25</td>\n",
       "      <td>0.50</td>\n",
       "      <td>NaN</td>\n",
       "      <td>NaN</td>\n",
       "      <td>2017/7/16 12:00</td>\n",
       "      <td>0.80</td>\n",
       "    </tr>\n",
       "    <tr>\n",
       "      <th>227</th>\n",
       "      <td>HWF290</td>\n",
       "      <td>NaN</td>\n",
       "      <td>2015</td>\n",
       "      <td>2015/7/24 17:21</td>\n",
       "      <td>0.10</td>\n",
       "      <td>0.10</td>\n",
       "      <td>A</td>\n",
       "      <td>57.622750</td>\n",
       "      <td>-115.691333</td>\n",
       "      <td>Provincial Land</td>\n",
       "      <td>...</td>\n",
       "      <td>Cloudy</td>\n",
       "      <td>C2</td>\n",
       "      <td>NaN</td>\n",
       "      <td>0.10</td>\n",
       "      <td>2015/7/24 17:21</td>\n",
       "      <td>0.10</td>\n",
       "      <td>NaN</td>\n",
       "      <td>NaN</td>\n",
       "      <td>2015/7/24 19:38</td>\n",
       "      <td>0.10</td>\n",
       "    </tr>\n",
       "  </tbody>\n",
       "</table>\n",
       "<p>5 rows × 31 columns</p>\n",
       "</div>"
      ],
      "text/plain": [
       "     fire_number fire_name  fire_year assessment_datetime  \\\n",
       "1296      CWF225       NaN       2017     2017/8/10 14:22   \n",
       "1510      MWF058       NaN       2017     2017/7/27 18:49   \n",
       "1679      SWF103       NaN       2017      2017/8/9 21:00   \n",
       "1652      SWF072       NaN       2017     2017/7/15 13:44   \n",
       "227       HWF290       NaN       2015     2015/7/24 17:21   \n",
       "\n",
       "      assessment_hectares  current_size size_class  fire_location_latitude  \\\n",
       "1296                 0.01          0.01          A               50.584533   \n",
       "1510                 0.01          0.01          A               56.505133   \n",
       "1679                 0.01          0.01          A               56.929267   \n",
       "1652                 0.50          0.80          B               55.921567   \n",
       "227                  0.10          0.10          A               57.622750   \n",
       "\n",
       "      fire_location_longitude      fire_origin  ...  \\\n",
       "1296              -114.794550  Provincial Park  ...   \n",
       "1510              -112.629167  Provincial Land  ...   \n",
       "1679              -115.692867  Provincial Land  ...   \n",
       "1652              -114.901333  Provincial Land  ...   \n",
       "227               -115.691333  Provincial Land  ...   \n",
       "\n",
       "     weather_conditions_over_fire fuel_type other_fuel_type bh_hectares  \\\n",
       "1296                       CB Wet        C3             NaN        0.01   \n",
       "1510                       CB Wet        C2             NaN        0.01   \n",
       "1679                        Clear        M2             NaN        0.01   \n",
       "1652                        Clear        M1             NaN        0.50   \n",
       "227                        Cloudy        C2             NaN        0.10   \n",
       "\n",
       "           uc_fs_date uc_hectares to_fs_date  to_hectares       ex_fs_date  \\\n",
       "1296  2017/8/10 16:35        0.01        NaN          NaN  2017/8/11 15:20   \n",
       "1510  2017/7/27 19:35        0.01        NaN          NaN  2017/7/27 20:54   \n",
       "1679  2017/8/10 19:00        0.01        NaN          NaN  2017/8/10 19:15   \n",
       "1652  2017/7/15 14:25        0.50        NaN          NaN  2017/7/16 12:00   \n",
       "227   2015/7/24 17:21        0.10        NaN          NaN  2015/7/24 19:38   \n",
       "\n",
       "     ex_hectares  \n",
       "1296        0.01  \n",
       "1510        0.01  \n",
       "1679        0.01  \n",
       "1652        0.80  \n",
       "227         0.10  \n",
       "\n",
       "[5 rows x 31 columns]"
      ]
     },
     "execution_count": 56,
     "metadata": {},
     "output_type": "execute_result"
    }
   ],
   "source": [
    "df_wildfire.sample(5)"
   ]
  },
  {
   "cell_type": "code",
   "execution_count": 57,
   "metadata": {},
   "outputs": [],
   "source": [
    "\n",
    "df_wildfire[\"assessment_datetime\"] = df_wildfire[\"assessment_datetime\"].astype('datetime64[ns]')"
   ]
  },
  {
   "cell_type": "code",
   "execution_count": 58,
   "metadata": {},
   "outputs": [],
   "source": [
    "import datetime as dt"
   ]
  },
  {
   "cell_type": "code",
   "execution_count": 59,
   "metadata": {},
   "outputs": [],
   "source": [
    "df_wildfire['assessment_datetime'] = pd.to_datetime(df_wildfire['assessment_datetime']).dt.strftime('%Y-%m-%d')"
   ]
  },
  {
   "cell_type": "code",
   "execution_count": 60,
   "metadata": {},
   "outputs": [
    {
     "data": {
      "text/html": [
       "<div>\n",
       "<style scoped>\n",
       "    .dataframe tbody tr th:only-of-type {\n",
       "        vertical-align: middle;\n",
       "    }\n",
       "\n",
       "    .dataframe tbody tr th {\n",
       "        vertical-align: top;\n",
       "    }\n",
       "\n",
       "    .dataframe thead th {\n",
       "        text-align: right;\n",
       "    }\n",
       "</style>\n",
       "<table border=\"1\" class=\"dataframe\">\n",
       "  <thead>\n",
       "    <tr style=\"text-align: right;\">\n",
       "      <th></th>\n",
       "      <th>fire_number</th>\n",
       "      <th>fire_name</th>\n",
       "      <th>fire_year</th>\n",
       "      <th>assessment_datetime</th>\n",
       "      <th>assessment_hectares</th>\n",
       "      <th>current_size</th>\n",
       "      <th>size_class</th>\n",
       "      <th>fire_location_latitude</th>\n",
       "      <th>fire_location_longitude</th>\n",
       "      <th>fire_origin</th>\n",
       "      <th>...</th>\n",
       "      <th>weather_conditions_over_fire</th>\n",
       "      <th>fuel_type</th>\n",
       "      <th>other_fuel_type</th>\n",
       "      <th>bh_hectares</th>\n",
       "      <th>uc_fs_date</th>\n",
       "      <th>uc_hectares</th>\n",
       "      <th>to_fs_date</th>\n",
       "      <th>to_hectares</th>\n",
       "      <th>ex_fs_date</th>\n",
       "      <th>ex_hectares</th>\n",
       "    </tr>\n",
       "  </thead>\n",
       "  <tbody>\n",
       "    <tr>\n",
       "      <th>1334</th>\n",
       "      <td>GWF026</td>\n",
       "      <td>NaN</td>\n",
       "      <td>2017</td>\n",
       "      <td>2017-07-08</td>\n",
       "      <td>0.01</td>\n",
       "      <td>0.01</td>\n",
       "      <td>A</td>\n",
       "      <td>54.650733</td>\n",
       "      <td>-117.662700</td>\n",
       "      <td>Provincial Land</td>\n",
       "      <td>...</td>\n",
       "      <td>Clear</td>\n",
       "      <td>M2</td>\n",
       "      <td>NaN</td>\n",
       "      <td>0.01</td>\n",
       "      <td>2017/7/8 15:16</td>\n",
       "      <td>0.01</td>\n",
       "      <td>NaN</td>\n",
       "      <td>NaN</td>\n",
       "      <td>2017/7/8 16:30</td>\n",
       "      <td>0.01</td>\n",
       "    </tr>\n",
       "    <tr>\n",
       "      <th>995</th>\n",
       "      <td>MWF032</td>\n",
       "      <td>NaN</td>\n",
       "      <td>2016</td>\n",
       "      <td>2016-06-22</td>\n",
       "      <td>10.00</td>\n",
       "      <td>27.30</td>\n",
       "      <td>C</td>\n",
       "      <td>57.266514</td>\n",
       "      <td>-112.635463</td>\n",
       "      <td>Provincial Land</td>\n",
       "      <td>...</td>\n",
       "      <td>Clear</td>\n",
       "      <td>C2</td>\n",
       "      <td>NaN</td>\n",
       "      <td>20.00</td>\n",
       "      <td>2016/6/24 16:40</td>\n",
       "      <td>20.00</td>\n",
       "      <td>NaN</td>\n",
       "      <td>NaN</td>\n",
       "      <td>2016/6/26 18:56</td>\n",
       "      <td>27.30</td>\n",
       "    </tr>\n",
       "    <tr>\n",
       "      <th>1384</th>\n",
       "      <td>HWF161</td>\n",
       "      <td>NaN</td>\n",
       "      <td>2017</td>\n",
       "      <td>2017-06-25</td>\n",
       "      <td>1.00</td>\n",
       "      <td>0.40</td>\n",
       "      <td>B</td>\n",
       "      <td>58.924583</td>\n",
       "      <td>-119.866450</td>\n",
       "      <td>Provincial Land</td>\n",
       "      <td>...</td>\n",
       "      <td>CB Dry</td>\n",
       "      <td>C2</td>\n",
       "      <td>NaN</td>\n",
       "      <td>1.00</td>\n",
       "      <td>2017/6/26 13:10</td>\n",
       "      <td>0.40</td>\n",
       "      <td>NaN</td>\n",
       "      <td>NaN</td>\n",
       "      <td>2017/6/26 16:01</td>\n",
       "      <td>0.40</td>\n",
       "    </tr>\n",
       "    <tr>\n",
       "      <th>1010</th>\n",
       "      <td>MWF047</td>\n",
       "      <td>NaN</td>\n",
       "      <td>2016</td>\n",
       "      <td>2016-06-23</td>\n",
       "      <td>0.01</td>\n",
       "      <td>0.01</td>\n",
       "      <td>A</td>\n",
       "      <td>56.463100</td>\n",
       "      <td>-112.489933</td>\n",
       "      <td>Provincial Land</td>\n",
       "      <td>...</td>\n",
       "      <td>Cloudy</td>\n",
       "      <td>C2</td>\n",
       "      <td>NaN</td>\n",
       "      <td>0.01</td>\n",
       "      <td>2016/6/23 15:15</td>\n",
       "      <td>0.01</td>\n",
       "      <td>NaN</td>\n",
       "      <td>NaN</td>\n",
       "      <td>2016/6/23 15:30</td>\n",
       "      <td>0.01</td>\n",
       "    </tr>\n",
       "    <tr>\n",
       "      <th>322</th>\n",
       "      <td>MWF034</td>\n",
       "      <td>NaN</td>\n",
       "      <td>2015</td>\n",
       "      <td>2015-06-06</td>\n",
       "      <td>0.01</td>\n",
       "      <td>0.01</td>\n",
       "      <td>A</td>\n",
       "      <td>56.890267</td>\n",
       "      <td>-112.846283</td>\n",
       "      <td>Provincial Land</td>\n",
       "      <td>...</td>\n",
       "      <td>Cloudy</td>\n",
       "      <td>C2</td>\n",
       "      <td>NaN</td>\n",
       "      <td>0.01</td>\n",
       "      <td>2015/6/6 13:52</td>\n",
       "      <td>0.01</td>\n",
       "      <td>NaN</td>\n",
       "      <td>NaN</td>\n",
       "      <td>2015/6/6 14:20</td>\n",
       "      <td>0.01</td>\n",
       "    </tr>\n",
       "  </tbody>\n",
       "</table>\n",
       "<p>5 rows × 31 columns</p>\n",
       "</div>"
      ],
      "text/plain": [
       "     fire_number fire_name  fire_year assessment_datetime  \\\n",
       "1334      GWF026       NaN       2017          2017-07-08   \n",
       "995       MWF032       NaN       2016          2016-06-22   \n",
       "1384      HWF161       NaN       2017          2017-06-25   \n",
       "1010      MWF047       NaN       2016          2016-06-23   \n",
       "322       MWF034       NaN       2015          2015-06-06   \n",
       "\n",
       "      assessment_hectares  current_size size_class  fire_location_latitude  \\\n",
       "1334                 0.01          0.01          A               54.650733   \n",
       "995                 10.00         27.30          C               57.266514   \n",
       "1384                 1.00          0.40          B               58.924583   \n",
       "1010                 0.01          0.01          A               56.463100   \n",
       "322                  0.01          0.01          A               56.890267   \n",
       "\n",
       "      fire_location_longitude      fire_origin  ...  \\\n",
       "1334              -117.662700  Provincial Land  ...   \n",
       "995               -112.635463  Provincial Land  ...   \n",
       "1384              -119.866450  Provincial Land  ...   \n",
       "1010              -112.489933  Provincial Land  ...   \n",
       "322               -112.846283  Provincial Land  ...   \n",
       "\n",
       "     weather_conditions_over_fire fuel_type other_fuel_type bh_hectares  \\\n",
       "1334                        Clear        M2             NaN        0.01   \n",
       "995                         Clear        C2             NaN       20.00   \n",
       "1384                       CB Dry        C2             NaN        1.00   \n",
       "1010                       Cloudy        C2             NaN        0.01   \n",
       "322                        Cloudy        C2             NaN        0.01   \n",
       "\n",
       "           uc_fs_date uc_hectares to_fs_date  to_hectares       ex_fs_date  \\\n",
       "1334   2017/7/8 15:16        0.01        NaN          NaN   2017/7/8 16:30   \n",
       "995   2016/6/24 16:40       20.00        NaN          NaN  2016/6/26 18:56   \n",
       "1384  2017/6/26 13:10        0.40        NaN          NaN  2017/6/26 16:01   \n",
       "1010  2016/6/23 15:15        0.01        NaN          NaN  2016/6/23 15:30   \n",
       "322    2015/6/6 13:52        0.01        NaN          NaN   2015/6/6 14:20   \n",
       "\n",
       "     ex_hectares  \n",
       "1334        0.01  \n",
       "995        27.30  \n",
       "1384        0.40  \n",
       "1010        0.01  \n",
       "322         0.01  \n",
       "\n",
       "[5 rows x 31 columns]"
      ]
     },
     "execution_count": 60,
     "metadata": {},
     "output_type": "execute_result"
    }
   ],
   "source": [
    "df_wildfire.sample(5)"
   ]
  },
  {
   "cell_type": "code",
   "execution_count": 61,
   "metadata": {},
   "outputs": [],
   "source": [
    "df_wildfire.to_excel('wildfire_Data.xlsx', index=False)"
   ]
  },
  {
   "cell_type": "code",
   "execution_count": 62,
   "metadata": {},
   "outputs": [],
   "source": [
    "# Load the dataset into a DataFrame\n",
    "df1 = pd.read_csv('Final_Data.csv')\n",
    "\n",
    "# Convert the date column to datetime format\n",
    "df1['Date/Time'] = pd.to_datetime(df1['Date/Time'])\n",
    "\n",
    "# Filter the DataFrame to include only the rows with the year 2018\n",
    "df1 = df1.loc[df1['Date/Time'].dt.year != 2018]\n",
    "\n",
    "\n",
    "# Save the updated dataset to a new CSV file\n",
    "df1.to_csv('updated_dataset.csv', index=False)"
   ]
  },
  {
   "cell_type": "code",
   "execution_count": 63,
   "metadata": {},
   "outputs": [
    {
     "name": "stdout",
     "output_type": "stream",
     "text": [
      "<class 'pandas.core.frame.DataFrame'>\n",
      "Int64Index: 1096 entries, 0 to 1095\n",
      "Data columns (total 19 columns):\n",
      " #   Column                       Non-Null Count  Dtype         \n",
      "---  ------                       --------------  -----         \n",
      " 0   Date/Time                    1096 non-null   datetime64[ns]\n",
      " 1   Air Quality Index            1096 non-null   float64       \n",
      " 2   Carbon Monoxide              1096 non-null   float64       \n",
      " 3   Hydrogen Sulphide            1089 non-null   float64       \n",
      " 4   Methane                      1094 non-null   float64       \n",
      " 5   Nitric Oxide                 1096 non-null   float64       \n",
      " 6   Nitrogen Dioxide             1096 non-null   float64       \n",
      " 7   Non-methane Hydrocarbons     1090 non-null   float64       \n",
      " 8   Outdoor Air Temperature      1096 non-null   float64       \n",
      " 9   Ozone                        1096 non-null   float64       \n",
      " 10  PM10 Mass                    412 non-null    float64       \n",
      " 11  PM2.5 Mass                   1096 non-null   float64       \n",
      " 12  Relative Humidity            1087 non-null   float64       \n",
      " 13  Std. Dev. of Wind Direction  1096 non-null   float64       \n",
      " 14  Sulphur Dioxide              1096 non-null   float64       \n",
      " 15  Total Hydrocarbons           1096 non-null   float64       \n",
      " 16  Total Oxides Of Nitrogen     1096 non-null   float64       \n",
      " 17  Wind Direction               1096 non-null   float64       \n",
      " 18  Wind Speed                   1096 non-null   float64       \n",
      "dtypes: datetime64[ns](1), float64(18)\n",
      "memory usage: 171.2 KB\n"
     ]
    }
   ],
   "source": [
    "df1.info()"
   ]
  },
  {
   "attachments": {},
   "cell_type": "markdown",
   "metadata": {},
   "source": [
    "### Interpreting AQI for common knowlege as  'Good', 'Moderate' or 'Risk':\n",
    "\n",
    "The follwoing code defines a function air_quality_color() that takes an air quality index (AQI) value as input and returns a string indicating the air quality level based on the given AQI value. The function assumes the AQI value is on a scale of 0 to 10.\n",
    "\n",
    "If the AQI value is less than or equal to 3, the function returns \"Good\". If the AQI value is less than or equal to 7, the function returns \"Moderate\". Otherwise, the function returns \"Risk\".\n",
    "\n",
    "This function is useful for categorizing air quality levels based on AQI values and can be used in various air quality monitoring and reporting applications."
   ]
  },
  {
   "cell_type": "code",
   "execution_count": 64,
   "metadata": {},
   "outputs": [],
   "source": [
    "def air_quality_color(aqi):\n",
    "    \"\"\"\n",
    "    Returns a string indicating the air quality level based on the given AQI value.\n",
    "    Assumes the AQI value is on a scale of 0 to 10.\n",
    "    \"\"\"\n",
    "    if aqi <= 3:\n",
    "        return \"Good\"\n",
    "    elif aqi <= 7:\n",
    "        return \"Moderate\"\n",
    "    else:\n",
    "        return \"Risk\""
   ]
  }
 ],
 "metadata": {
  "kernelspec": {
   "display_name": "base",
   "language": "python",
   "name": "python3"
  },
  "language_info": {
   "codemirror_mode": {
    "name": "ipython",
    "version": 3
   },
   "file_extension": ".py",
   "mimetype": "text/x-python",
   "name": "python",
   "nbconvert_exporter": "python",
   "pygments_lexer": "ipython3",
   "version": "3.9.12"
  },
  "orig_nbformat": 4,
  "vscode": {
   "interpreter": {
    "hash": "ac84c186c3977d3f3331649749bf53276a5c5befb029be0bc359ac378ed9e33b"
   }
  }
 },
 "nbformat": 4,
 "nbformat_minor": 2
}
